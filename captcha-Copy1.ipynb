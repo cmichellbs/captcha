{
 "cells": [
  {
   "cell_type": "code",
   "execution_count": 35,
   "id": "3d316e59-d3a9-4a2b-ab8e-1b4831ab5a61",
   "metadata": {},
   "outputs": [],
   "source": [
    "import pandas as pd\n",
    "import numpy as np\n",
    "import matplotlib.pyplot as plt\n",
    "%matplotlib inline\n",
    "from matplotlib.pylab import rcParams\n",
    "rcParams['figure.figsize']=20,10\n",
    "from keras.models import Sequential\n",
    "from keras.layers import LSTM,Dropout,Dense\n",
    "from sklearn.preprocessing import MinMaxScaler\n",
    "\n"
   ]
  },
  {
   "cell_type": "code",
   "execution_count": 36,
   "id": "aac2fd4e-f0be-4cfd-a47a-fd1f98242fa0",
   "metadata": {},
   "outputs": [],
   "source": [
    "df = pd.read_csv('resultados mega - Página1.csv')\n",
    "\n",
    "\n",
    "\n"
   ]
  },
  {
   "cell_type": "code",
   "execution_count": 37,
   "id": "f0fd6503-ae43-4e0b-92d4-ed874e046467",
   "metadata": {},
   "outputs": [
    {
     "data": {
      "text/html": [
       "<div>\n",
       "<style scoped>\n",
       "    .dataframe tbody tr th:only-of-type {\n",
       "        vertical-align: middle;\n",
       "    }\n",
       "\n",
       "    .dataframe tbody tr th {\n",
       "        vertical-align: top;\n",
       "    }\n",
       "\n",
       "    .dataframe thead th {\n",
       "        text-align: right;\n",
       "    }\n",
       "</style>\n",
       "<table border=\"1\" class=\"dataframe\">\n",
       "  <thead>\n",
       "    <tr style=\"text-align: right;\">\n",
       "      <th></th>\n",
       "      <th>Concurso</th>\n",
       "      <th>data</th>\n",
       "      <th>Coluna1</th>\n",
       "      <th>Coluna2</th>\n",
       "      <th>Coluna3</th>\n",
       "      <th>Coluna4</th>\n",
       "      <th>Coluna5</th>\n",
       "      <th>Coluna6</th>\n",
       "      <th>Ganhadores Faixa 1</th>\n",
       "      <th>Ganhadores Faixa 2</th>\n",
       "      <th>...</th>\n",
       "      <th>Rateio Faixa 1</th>\n",
       "      <th>Rateio Faixa2</th>\n",
       "      <th>Rateio Faixa 3</th>\n",
       "      <th>Cidade</th>\n",
       "      <th>Valor Arrecadado</th>\n",
       "      <th>Estimativa para o próximo concurso</th>\n",
       "      <th>Valor Acumulado Próximo Concurso</th>\n",
       "      <th>Acumulado</th>\n",
       "      <th>Sorteio Especial</th>\n",
       "      <th>Observação</th>\n",
       "    </tr>\n",
       "  </thead>\n",
       "  <tbody>\n",
       "    <tr>\n",
       "      <th>0</th>\n",
       "      <td>1</td>\n",
       "      <td>11/03/1996</td>\n",
       "      <td>4</td>\n",
       "      <td>5</td>\n",
       "      <td>30</td>\n",
       "      <td>33</td>\n",
       "      <td>41</td>\n",
       "      <td>52</td>\n",
       "      <td>0</td>\n",
       "      <td>17</td>\n",
       "      <td>...</td>\n",
       "      <td>R$0,00</td>\n",
       "      <td>R$39.158,92</td>\n",
       "      <td>R$330,21</td>\n",
       "      <td>NaN</td>\n",
       "      <td>R$0,00</td>\n",
       "      <td>R$0,00</td>\n",
       "      <td>R$1.714.650,23</td>\n",
       "      <td>Sim</td>\n",
       "      <td>Não</td>\n",
       "      <td>NaN</td>\n",
       "    </tr>\n",
       "    <tr>\n",
       "      <th>1</th>\n",
       "      <td>2</td>\n",
       "      <td>18/03/1996</td>\n",
       "      <td>9</td>\n",
       "      <td>37</td>\n",
       "      <td>39</td>\n",
       "      <td>41</td>\n",
       "      <td>43</td>\n",
       "      <td>49</td>\n",
       "      <td>1</td>\n",
       "      <td>65</td>\n",
       "      <td>...</td>\n",
       "      <td>R$2.307.162,23</td>\n",
       "      <td>R$14.424,02</td>\n",
       "      <td>R$208,91</td>\n",
       "      <td>PR</td>\n",
       "      <td>R$0,00</td>\n",
       "      <td>R$0,00</td>\n",
       "      <td>R$0,00</td>\n",
       "      <td>Não</td>\n",
       "      <td>Não</td>\n",
       "      <td>NaN</td>\n",
       "    </tr>\n",
       "    <tr>\n",
       "      <th>2</th>\n",
       "      <td>3</td>\n",
       "      <td>25/03/1996</td>\n",
       "      <td>10</td>\n",
       "      <td>11</td>\n",
       "      <td>29</td>\n",
       "      <td>30</td>\n",
       "      <td>36</td>\n",
       "      <td>47</td>\n",
       "      <td>2</td>\n",
       "      <td>62</td>\n",
       "      <td>...</td>\n",
       "      <td>R$391.192,51</td>\n",
       "      <td>R$10.515,93</td>\n",
       "      <td>R$153,01</td>\n",
       "      <td>RN   SP</td>\n",
       "      <td>R$0,00</td>\n",
       "      <td>R$0,00</td>\n",
       "      <td>R$0,00</td>\n",
       "      <td>Não</td>\n",
       "      <td>Não</td>\n",
       "      <td>NaN</td>\n",
       "    </tr>\n",
       "    <tr>\n",
       "      <th>3</th>\n",
       "      <td>4</td>\n",
       "      <td>01/04/1996</td>\n",
       "      <td>1</td>\n",
       "      <td>5</td>\n",
       "      <td>6</td>\n",
       "      <td>27</td>\n",
       "      <td>42</td>\n",
       "      <td>59</td>\n",
       "      <td>0</td>\n",
       "      <td>39</td>\n",
       "      <td>...</td>\n",
       "      <td>R$0,00</td>\n",
       "      <td>R$15.322,24</td>\n",
       "      <td>R$180,48</td>\n",
       "      <td>NaN</td>\n",
       "      <td>R$0,00</td>\n",
       "      <td>R$0,00</td>\n",
       "      <td>R$717.080,75</td>\n",
       "      <td>Sim</td>\n",
       "      <td>Não</td>\n",
       "      <td>NaN</td>\n",
       "    </tr>\n",
       "    <tr>\n",
       "      <th>4</th>\n",
       "      <td>5</td>\n",
       "      <td>08/04/1996</td>\n",
       "      <td>1</td>\n",
       "      <td>2</td>\n",
       "      <td>6</td>\n",
       "      <td>16</td>\n",
       "      <td>19</td>\n",
       "      <td>46</td>\n",
       "      <td>0</td>\n",
       "      <td>98</td>\n",
       "      <td>...</td>\n",
       "      <td>R$0,00</td>\n",
       "      <td>R$5.318,10</td>\n",
       "      <td>R$96,53</td>\n",
       "      <td>NaN</td>\n",
       "      <td>R$0,00</td>\n",
       "      <td>R$0,00</td>\n",
       "      <td>R$1.342.488,85</td>\n",
       "      <td>Sim</td>\n",
       "      <td>Não</td>\n",
       "      <td>NaN</td>\n",
       "    </tr>\n",
       "  </tbody>\n",
       "</table>\n",
       "<p>5 rows × 21 columns</p>\n",
       "</div>"
      ],
      "text/plain": [
       "   Concurso        data  Coluna1  Coluna2  Coluna3  Coluna4  Coluna5  Coluna6  \\\n",
       "0         1  11/03/1996        4        5       30       33       41       52   \n",
       "1         2  18/03/1996        9       37       39       41       43       49   \n",
       "2         3  25/03/1996       10       11       29       30       36       47   \n",
       "3         4  01/04/1996        1        5        6       27       42       59   \n",
       "4         5  08/04/1996        1        2        6       16       19       46   \n",
       "\n",
       "   Ganhadores Faixa 1  Ganhadores Faixa 2  ...  Rateio Faixa 1 Rateio Faixa2  \\\n",
       "0                   0                  17  ...          R$0,00   R$39.158,92   \n",
       "1                   1                  65  ...  R$2.307.162,23   R$14.424,02   \n",
       "2                   2                  62  ...    R$391.192,51   R$10.515,93   \n",
       "3                   0                  39  ...          R$0,00   R$15.322,24   \n",
       "4                   0                  98  ...          R$0,00    R$5.318,10   \n",
       "\n",
       "  Rateio Faixa 3   Cidade Valor Arrecadado Estimativa para o próximo concurso  \\\n",
       "0       R$330,21      NaN           R$0,00                             R$0,00   \n",
       "1       R$208,91       PR           R$0,00                             R$0,00   \n",
       "2       R$153,01  RN   SP           R$0,00                             R$0,00   \n",
       "3       R$180,48      NaN           R$0,00                             R$0,00   \n",
       "4        R$96,53      NaN           R$0,00                             R$0,00   \n",
       "\n",
       "  Valor Acumulado Próximo Concurso Acumulado Sorteio Especial Observação  \n",
       "0                   R$1.714.650,23       Sim              Não        NaN  \n",
       "1                           R$0,00       Não              Não        NaN  \n",
       "2                           R$0,00       Não              Não        NaN  \n",
       "3                     R$717.080,75       Sim              Não        NaN  \n",
       "4                   R$1.342.488,85       Sim              Não        NaN  \n",
       "\n",
       "[5 rows x 21 columns]"
      ]
     },
     "execution_count": 37,
     "metadata": {},
     "output_type": "execute_result"
    }
   ],
   "source": [
    "df.head()"
   ]
  },
  {
   "cell_type": "code",
   "execution_count": 38,
   "id": "ed6467d4-edf2-4aec-aebc-b13b127770cf",
   "metadata": {},
   "outputs": [
    {
     "data": {
      "text/plain": [
       "Index(['Concurso', 'data', 'Coluna1', 'Coluna2', 'Coluna3', 'Coluna4',\n",
       "       'Coluna5', 'Coluna6', 'Ganhadores Faixa 1', 'Ganhadores Faixa 2',\n",
       "       'Ganhadores Faixa 3', 'Rateio Faixa 1', 'Rateio Faixa2',\n",
       "       'Rateio Faixa 3', 'Cidade', 'Valor Arrecadado',\n",
       "       'Estimativa para o próximo concurso',\n",
       "       'Valor Acumulado Próximo Concurso', 'Acumulado', 'Sorteio Especial',\n",
       "       'Observação'],\n",
       "      dtype='object')"
      ]
     },
     "execution_count": 38,
     "metadata": {},
     "output_type": "execute_result"
    }
   ],
   "source": [
    "df.columns"
   ]
  },
  {
   "cell_type": "code",
   "execution_count": 39,
   "id": "9be8416f-4c02-414a-8151-9e7de1744ee4",
   "metadata": {},
   "outputs": [],
   "source": [
    "df = df[['Concurso', 'data', 'Coluna1', 'Coluna2', 'Coluna3',\n",
    "       'Coluna4', 'Coluna5', 'Coluna6']]"
   ]
  },
  {
   "cell_type": "code",
   "execution_count": 40,
   "id": "00131a48-5947-4065-9526-04210d5437be",
   "metadata": {},
   "outputs": [],
   "source": [
    "df['data'] = pd.to_datetime(df.data,format=\"%d/%m/%Y\")"
   ]
  },
  {
   "cell_type": "code",
   "execution_count": 41,
   "id": "5ade1b14-39f5-4c6d-bbf2-69960e694e93",
   "metadata": {},
   "outputs": [
    {
     "data": {
      "text/plain": [
       "Concurso             int64\n",
       "data        datetime64[ns]\n",
       "Coluna1              int64\n",
       "Coluna2              int64\n",
       "Coluna3              int64\n",
       "Coluna4              int64\n",
       "Coluna5              int64\n",
       "Coluna6              int64\n",
       "dtype: object"
      ]
     },
     "execution_count": 41,
     "metadata": {},
     "output_type": "execute_result"
    }
   ],
   "source": [
    "df.dtypes"
   ]
  },
  {
   "cell_type": "code",
   "execution_count": 42,
   "id": "d6c182ad-cc89-4459-808b-f52d86ca89f9",
   "metadata": {},
   "outputs": [],
   "source": [
    "df.index = df['Concurso']"
   ]
  },
  {
   "cell_type": "code",
   "execution_count": 43,
   "id": "f837c963-c79e-4fa2-b03f-29f4160062aa",
   "metadata": {},
   "outputs": [],
   "source": [
    "df = df.sort_index(ascending=True,axis=0)"
   ]
  },
  {
   "cell_type": "code",
   "execution_count": null,
   "id": "29f6a969-727c-4003-94c9-3af81f1bb4da",
   "metadata": {},
   "outputs": [],
   "source": []
  }
 ],
 "metadata": {
  "kernelspec": {
   "display_name": ".venv1",
   "language": "python",
   "name": ".venv1"
  },
  "language_info": {
   "codemirror_mode": {
    "name": "ipython",
    "version": 3
   },
   "file_extension": ".py",
   "mimetype": "text/x-python",
   "name": "python",
   "nbconvert_exporter": "python",
   "pygments_lexer": "ipython3",
   "version": "3.9.10"
  }
 },
 "nbformat": 4,
 "nbformat_minor": 5
}
