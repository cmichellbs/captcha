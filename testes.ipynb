{
 "cells": [
  {
   "cell_type": "code",
   "execution_count": 2,
   "id": "0f3be7c9-0926-4331-ab42-1061bfc88d6c",
   "metadata": {},
   "outputs": [],
   "source": [
    "from bs4 import BeautifulSoup as bs\n",
    "#import requests_html\n",
    "from requests_html import AsyncHTMLSession\n",
    "import requests\n",
    "from pprint import pprint\n"
   ]
  },
  {
   "cell_type": "code",
   "execution_count": 2,
   "id": "a500ef66-a4fa-4cc5-80c8-a01432a6d937",
   "metadata": {},
   "outputs": [],
   "source": [
    "\n",
    "session = AsyncHTMLSession()\n",
    "r = await session.get('http://rais.gov.br/sitio/consulta_trabalhador_identificacao.jsf')\n"
   ]
  },
  {
   "cell_type": "code",
   "execution_count": 3,
   "id": "f5246ab3-2cd8-4cc3-9f95-322b72392fd3",
   "metadata": {},
   "outputs": [
    {
     "data": {
      "text/plain": [
       "'Hello World'"
      ]
     },
     "execution_count": 3,
     "metadata": {},
     "output_type": "execute_result"
    }
   ],
   "source": [
    "import asyncio\n",
    "loop = asyncio.get_running_loop()\n",
    "asession = AsyncHTMLSession(loop=loop)\n",
    "r = await asession.get('https://www.google.com')\n",
    "script = '''\n",
    "       () => {return 'Hello World'}\n",
    "'''\n",
    "await r.html.arender(script=script, reload=False)"
   ]
  },
  {
   "cell_type": "code",
   "execution_count": null,
   "id": "7161d79a-894b-43ac-b2fd-e109126e0d3f",
   "metadata": {},
   "outputs": [],
   "source": [
    "r.text"
   ]
  },
  {
   "cell_type": "code",
   "execution_count": null,
   "id": "ecc2bdb6-6d87-4f2f-a053-077aa483f746",
   "metadata": {},
   "outputs": [],
   "source": [
    "response = response.connection.get_connection('http://rais.gov.br/sitio/consulta_trabalhador_identificacao.jsf')"
   ]
  },
  {
   "cell_type": "code",
   "execution_count": 11,
   "id": "80b43530-c8ff-488d-9520-839ff313a034",
   "metadata": {},
   "outputs": [
    {
     "name": "stderr",
     "output_type": "stream",
     "text": [
      "/home/christhian.souza/projects/venvs/.venv1/lib64/python3.9/site-packages/pyppeteer/util.py:29: RuntimeWarning: coroutine 'BaseSession.browser' was never awaited\n",
      "  gc.collect()\n",
      "RuntimeWarning: Enable tracemalloc to get the object allocation traceback\n"
     ]
    },
    {
     "ename": "TimeoutError",
     "evalue": "Navigation Timeout Exceeded: 8000 ms exceeded.",
     "output_type": "error",
     "traceback": [
      "\u001b[0;31m---------------------------------------------------------------------------\u001b[0m",
      "\u001b[0;31mTimeoutError\u001b[0m                              Traceback (most recent call last)",
      "Input \u001b[0;32mIn [11]\u001b[0m, in \u001b[0;36m<cell line: 6>\u001b[0;34m()\u001b[0m\n\u001b[1;32m      3\u001b[0m asession \u001b[38;5;241m=\u001b[39m AsyncHTMLSession(loop\u001b[38;5;241m=\u001b[39mloop)\n\u001b[1;32m      4\u001b[0m r \u001b[38;5;241m=\u001b[39m \u001b[38;5;28;01mawait\u001b[39;00m asession\u001b[38;5;241m.\u001b[39mget(\u001b[38;5;124m'\u001b[39m\u001b[38;5;124mhttp://rais.gov.br/sitio/consulta_trabalhador_identificacao.jsf\u001b[39m\u001b[38;5;124m'\u001b[39m)\n\u001b[0;32m----> 6\u001b[0m \u001b[38;5;28;01mawait\u001b[39;00m r\u001b[38;5;241m.\u001b[39mhtml\u001b[38;5;241m.\u001b[39marender()\n",
      "File \u001b[0;32m~/projects/venvs/.venv1/lib64/python3.9/site-packages/requests_html.py:626\u001b[0m, in \u001b[0;36mHTML.arender\u001b[0;34m(self, retries, script, wait, scrolldown, sleep, reload, timeout, keep_page)\u001b[0m\n\u001b[1;32m    623\u001b[0m \u001b[38;5;28;01mif\u001b[39;00m \u001b[38;5;129;01mnot\u001b[39;00m content:\n\u001b[1;32m    624\u001b[0m     \u001b[38;5;28;01mtry\u001b[39;00m:\n\u001b[0;32m--> 626\u001b[0m         content, result, page \u001b[38;5;241m=\u001b[39m \u001b[38;5;28;01mawait\u001b[39;00m \u001b[38;5;28mself\u001b[39m\u001b[38;5;241m.\u001b[39m_async_render(url\u001b[38;5;241m=\u001b[39m\u001b[38;5;28mself\u001b[39m\u001b[38;5;241m.\u001b[39murl, script\u001b[38;5;241m=\u001b[39mscript, sleep\u001b[38;5;241m=\u001b[39msleep, wait\u001b[38;5;241m=\u001b[39mwait, content\u001b[38;5;241m=\u001b[39m\u001b[38;5;28mself\u001b[39m\u001b[38;5;241m.\u001b[39mhtml, reload\u001b[38;5;241m=\u001b[39mreload, scrolldown\u001b[38;5;241m=\u001b[39mscrolldown, timeout\u001b[38;5;241m=\u001b[39mtimeout, keep_page\u001b[38;5;241m=\u001b[39mkeep_page)\n\u001b[1;32m    627\u001b[0m     \u001b[38;5;28;01mexcept\u001b[39;00m \u001b[38;5;167;01mTypeError\u001b[39;00m:\n\u001b[1;32m    628\u001b[0m         \u001b[38;5;28;01mpass\u001b[39;00m\n",
      "File \u001b[0;32m~/projects/venvs/.venv1/lib64/python3.9/site-packages/requests_html.py:512\u001b[0m, in \u001b[0;36mHTML._async_render\u001b[0;34m(self, url, script, scrolldown, sleep, wait, reload, content, timeout, keep_page)\u001b[0m\n\u001b[1;32m    510\u001b[0m \u001b[38;5;66;03m# Load the given page (GET request, obviously.)\u001b[39;00m\n\u001b[1;32m    511\u001b[0m \u001b[38;5;28;01mif\u001b[39;00m reload:\n\u001b[0;32m--> 512\u001b[0m     \u001b[38;5;28;01mawait\u001b[39;00m page\u001b[38;5;241m.\u001b[39mgoto(url, options\u001b[38;5;241m=\u001b[39m{\u001b[38;5;124m'\u001b[39m\u001b[38;5;124mtimeout\u001b[39m\u001b[38;5;124m'\u001b[39m: \u001b[38;5;28mint\u001b[39m(timeout \u001b[38;5;241m*\u001b[39m \u001b[38;5;241m1000\u001b[39m)})\n\u001b[1;32m    513\u001b[0m \u001b[38;5;28;01melse\u001b[39;00m:\n\u001b[1;32m    514\u001b[0m     \u001b[38;5;28;01mawait\u001b[39;00m page\u001b[38;5;241m.\u001b[39mgoto(\u001b[38;5;124mf\u001b[39m\u001b[38;5;124m'\u001b[39m\u001b[38;5;124mdata:text/html,\u001b[39m\u001b[38;5;132;01m{\u001b[39;00m\u001b[38;5;28mself\u001b[39m\u001b[38;5;241m.\u001b[39mhtml\u001b[38;5;132;01m}\u001b[39;00m\u001b[38;5;124m'\u001b[39m, options\u001b[38;5;241m=\u001b[39m{\u001b[38;5;124m'\u001b[39m\u001b[38;5;124mtimeout\u001b[39m\u001b[38;5;124m'\u001b[39m: \u001b[38;5;28mint\u001b[39m(timeout \u001b[38;5;241m*\u001b[39m \u001b[38;5;241m1000\u001b[39m)})\n",
      "File \u001b[0;32m~/projects/venvs/.venv1/lib64/python3.9/site-packages/pyppeteer/page.py:837\u001b[0m, in \u001b[0;36mPage.goto\u001b[0;34m(self, url, options, **kwargs)\u001b[0m\n\u001b[1;32m    835\u001b[0m error \u001b[38;5;241m=\u001b[39m result[\u001b[38;5;241m0\u001b[39m]\u001b[38;5;241m.\u001b[39mpop()\u001b[38;5;241m.\u001b[39mexception()  \u001b[38;5;66;03m# type: ignore\u001b[39;00m\n\u001b[1;32m    836\u001b[0m \u001b[38;5;28;01mif\u001b[39;00m error:\n\u001b[0;32m--> 837\u001b[0m     \u001b[38;5;28;01mraise\u001b[39;00m error\n\u001b[1;32m    839\u001b[0m request \u001b[38;5;241m=\u001b[39m requests\u001b[38;5;241m.\u001b[39mget(mainFrame\u001b[38;5;241m.\u001b[39m_navigationURL)\n\u001b[1;32m    840\u001b[0m \u001b[38;5;28;01mreturn\u001b[39;00m request\u001b[38;5;241m.\u001b[39mresponse \u001b[38;5;28;01mif\u001b[39;00m request \u001b[38;5;28;01melse\u001b[39;00m \u001b[38;5;28;01mNone\u001b[39;00m\n",
      "\u001b[0;31mTimeoutError\u001b[0m: Navigation Timeout Exceeded: 8000 ms exceeded."
     ]
    }
   ],
   "source": [
    "import asyncio\n",
    "loop = asyncio.get_running_loop()\n",
    "asession = AsyncHTMLSession(loop=loop)\n",
    "r = await asession.get('http://rais.gov.br/sitio/consulta_trabalhador_identificacao.jsf')\n",
    "\n",
    "await r.html.arender()"
   ]
  },
  {
   "cell_type": "code",
   "execution_count": null,
   "id": "c788b6e3-c952-437c-afcf-e5e33afb0993",
   "metadata": {},
   "outputs": [],
   "source": []
  }
 ],
 "metadata": {
  "kernelspec": {
   "display_name": "Python 3 (ipykernel)",
   "language": "python",
   "name": "python3"
  },
  "language_info": {
   "codemirror_mode": {
    "name": "ipython",
    "version": 3
   },
   "file_extension": ".py",
   "mimetype": "text/x-python",
   "name": "python",
   "nbconvert_exporter": "python",
   "pygments_lexer": "ipython3",
   "version": "3.9.10"
  }
 },
 "nbformat": 4,
 "nbformat_minor": 5
}
