{
 "cells": [
  {
   "cell_type": "code",
   "execution_count": 1,
   "id": "658840c0-8902-42ec-88dc-6b74c0b8964c",
   "metadata": {},
   "outputs": [],
   "source": [
    "import cv2\n",
    "from PIL import Image\n",
    "import glob\n",
    "import os\n",
    "import numpy as np\n",
    "import subprocess"
   ]
  },
  {
   "cell_type": "code",
   "execution_count": 2,
   "id": "6f9559c2-efbb-4f9a-a739-c496de7a3740",
   "metadata": {},
   "outputs": [],
   "source": [
    "def tratarImagem(origem,destino='ajeitado'):\n",
    "    arquivos = glob.glob(f'{origem}/*')\n",
    "    for arquivo in arquivos:\n",
    "        imagem = cv2.imread(arquivo)\n",
    "       \n",
    "        #transformar em escala de cinza\n",
    "        imagem_cinza = cv2.cvtColor(imagem, cv2.COLOR_RGB2GRAY)\n",
    "        _, imagem_tratada = cv2.threshold(imagem_cinza,127,255, cv2.THRESH_TRUNC or cv2.THRESH_OTSU)\n",
    "        nome_arquivo = os.path.basename(arquivo)\n",
    "        cv2.imwrite(f'{destino}/{nome_arquivo}',imagem_tratada)\n",
    "    arquivos = glob.glob(f\"{destino}/*\")\n",
    "    for arquivo in arquivos:\n",
    "        imagem = Image.open(arquivo)\n",
    "        imagem = imagem.convert(\"P\")\n",
    "        imagem2 = Image.new(\"P\",imagem.size,255)\n",
    "        for x in range(imagem.size[1]):\n",
    "            for y in range(imagem.size[0]):\n",
    "                cor_pixel = imagem.getpixel((y,x))\n",
    "                if cor_pixel < 115:\n",
    "                    imagem2.putpixel((y,x),0)\n",
    "        nome_arquivo = os.path.basename(arquivo)\n",
    "        imagem2.save(f'{destino}/{nome_arquivo}')"
   ]
  },
  {
   "cell_type": "code",
   "execution_count": 435,
   "id": "e51fe4fb-915d-4327-aa1d-47e9d57ecf5d",
   "metadata": {},
   "outputs": [],
   "source": [
    "tratarImagem('amostra','ajeitado')"
   ]
  },
  {
   "cell_type": "code",
   "execution_count": 15,
   "id": "2ba12172-18a0-4d57-a61f-7b5c1f79d548",
   "metadata": {},
   "outputs": [],
   "source": [
    "def tratarImagem2(origem,destino='ajeitado'):\n",
    "    arquivos = glob.glob(f'{origem}/*')\n",
    "    for arquivo in arquivos:\n",
    "        imagem = cv2.imread(arquivo,0)\n",
    "        imagem = cv2.GaussianBlur(imagem,(7,7),5)\n",
    "        #transformar em escala de cinza\n",
    "        # imagem_cinza = cv2.cvtColor(imagem, cv2.COLOR_RGB2GRAY)\n",
    "        # _, imagem_tratada = cv2.threshold(imagem_cinza,99,255, cv2.THRESH_TRUNC or cv2.THRESH_OTSU)\n",
    "        imagem_tratada = cv2.adaptiveThreshold(imagem,255,cv2.ADAPTIVE_THRESH_GAUSSIAN_C, cv2.THRESH_BINARY,561,110)\n",
    "        nome_arquivo = os.path.basename(arquivo)\n",
    "        cv2.imwrite(f'{destino}/{nome_arquivo}',imagem_tratada)\n",
    "    arquivos = glob.glob(f\"{destino}/*\")\n",
    "    for arquivo in arquivos:\n",
    "        imagem = Image.open(arquivo)\n",
    "        imagem = imagem.convert(\"P\")\n",
    "        imagem2 = Image.new(\"P\",imagem.size,255)\n",
    "        for x in range(imagem.size[1]):\n",
    "            for y in range(imagem.size[0]):\n",
    "                cor_pixel = imagem.getpixel((y,x))\n",
    "                if cor_pixel < 127:\n",
    "                    imagem2.putpixel((y,x),0)\n",
    "        nome_arquivo = os.path.basename(arquivo)\n",
    "        imagem2.save(f'{destino}/{nome_arquivo}')\n",
    "        "
   ]
  },
  {
   "cell_type": "code",
   "execution_count": 16,
   "id": "d8e92928-3c66-4646-a9fc-65a81447cc62",
   "metadata": {},
   "outputs": [],
   "source": [
    "tratarImagem2('amostra','ajeitado')"
   ]
  },
  {
   "cell_type": "code",
   "execution_count": 491,
   "id": "47c315f7-381f-4998-ba1e-f1d1c5b30cf7",
   "metadata": {},
   "outputs": [],
   "source": [
    "tratarImagem2('bdcaptcha','tratadas')"
   ]
  },
  {
   "cell_type": "code",
   "execution_count": 269,
   "id": "e454b9a5-f884-461f-82f6-cea4de116ce7",
   "metadata": {},
   "outputs": [
    {
     "ename": "AttributeError",
     "evalue": "'numpy.ndarray' object has no attribute 'show'",
     "output_type": "error",
     "traceback": [
      "\u001b[0;31m---------------------------------------------------------------------------\u001b[0m",
      "\u001b[0;31mAttributeError\u001b[0m                            Traceback (most recent call last)",
      "Input \u001b[0;32mIn [269]\u001b[0m, in \u001b[0;36m<cell line: 2>\u001b[0;34m()\u001b[0m\n\u001b[1;32m      1\u001b[0m image\u001b[38;5;241m=\u001b[39mImage\u001b[38;5;241m.\u001b[39mopen(\u001b[38;5;124m'\u001b[39m\u001b[38;5;124mamostra/imagem0.png\u001b[39m\u001b[38;5;124m'\u001b[39m)\n\u001b[0;32m----> 2\u001b[0m \u001b[43mimagem\u001b[49m\u001b[38;5;241;43m.\u001b[39;49m\u001b[43mshow\u001b[49m()\n",
      "\u001b[0;31mAttributeError\u001b[0m: 'numpy.ndarray' object has no attribute 'show'"
     ]
    }
   ],
   "source": [
    "image=Image.open('amostra/imagem0.png')\n",
    "imagem.show()"
   ]
  },
  {
   "cell_type": "code",
   "execution_count": 18,
   "id": "20c3cf98-70c4-4b03-80c5-666ad00bd1ef",
   "metadata": {},
   "outputs": [
    {
     "ename": "error",
     "evalue": "OpenCV(4.5.5) /io/opencv/modules/imgcodecs/src/loadsave.cpp:801: error: (-215:Assertion failed) !_img.empty() in function 'imwrite'\n",
     "output_type": "error",
     "traceback": [
      "\u001b[0;31m---------------------------------------------------------------------------\u001b[0m",
      "\u001b[0;31merror\u001b[0m                                     Traceback (most recent call last)",
      "Input \u001b[0;32mIn [18]\u001b[0m, in \u001b[0;36m<cell line: 7>\u001b[0;34m()\u001b[0m\n\u001b[1;32m     25\u001b[0m     i \u001b[38;5;241m+\u001b[39m\u001b[38;5;241m=\u001b[39m \u001b[38;5;241m1\u001b[39m\n\u001b[1;32m     26\u001b[0m     nome_arquivo \u001b[38;5;241m=\u001b[39m os\u001b[38;5;241m.\u001b[39mpath\u001b[38;5;241m.\u001b[39mbasename(arquivo)\u001b[38;5;241m.\u001b[39mreplace(\u001b[38;5;124m\"\u001b[39m\u001b[38;5;124m.png\u001b[39m\u001b[38;5;124m\"\u001b[39m,\u001b[38;5;124mf\u001b[39m\u001b[38;5;124m\"\u001b[39m\u001b[38;5;124mletra\u001b[39m\u001b[38;5;132;01m{\u001b[39;00mi\u001b[38;5;132;01m}\u001b[39;00m\u001b[38;5;124m.png\u001b[39m\u001b[38;5;124m\"\u001b[39m)\n\u001b[0;32m---> 27\u001b[0m     \u001b[43mcv2\u001b[49m\u001b[38;5;241;43m.\u001b[39;49m\u001b[43mimwrite\u001b[49m\u001b[43m(\u001b[49m\u001b[38;5;124;43mf\u001b[39;49m\u001b[38;5;124;43m'\u001b[39;49m\u001b[38;5;124;43mletras/\u001b[39;49m\u001b[38;5;132;43;01m{\u001b[39;49;00m\u001b[43mnome_arquivo\u001b[49m\u001b[38;5;132;43;01m}\u001b[39;49;00m\u001b[38;5;124;43m'\u001b[39;49m\u001b[43m,\u001b[49m\u001b[43mimagem_letra\u001b[49m\u001b[43m)\u001b[49m\n\u001b[1;32m     28\u001b[0m     cv2\u001b[38;5;241m.\u001b[39mrectangle(imagem_final,(x\u001b[38;5;241m-\u001b[39m\u001b[38;5;241m4\u001b[39m,y\u001b[38;5;241m-\u001b[39m\u001b[38;5;241m4\u001b[39m),(x\u001b[38;5;241m+\u001b[39ml\u001b[38;5;241m+\u001b[39m\u001b[38;5;241m4\u001b[39m,y\u001b[38;5;241m+\u001b[39ma\u001b[38;5;241m+\u001b[39m\u001b[38;5;241m4\u001b[39m),(\u001b[38;5;241m0\u001b[39m,\u001b[38;5;241m255\u001b[39m,\u001b[38;5;241m0\u001b[39m),\u001b[38;5;241m2\u001b[39m)\n\u001b[1;32m     29\u001b[0m nome_arquivo \u001b[38;5;241m=\u001b[39m os\u001b[38;5;241m.\u001b[39mpath\u001b[38;5;241m.\u001b[39mbasename(arquivo)\n",
      "\u001b[0;31merror\u001b[0m: OpenCV(4.5.5) /io/opencv/modules/imgcodecs/src/loadsave.cpp:801: error: (-215:Assertion failed) !_img.empty() in function 'imwrite'\n"
     ]
    }
   ],
   "source": [
    "arquivos = glob.glob('ajeitado/*')\n",
    "os.system('rm -rf identificado')\n",
    "os.system('rm -rf letras')\n",
    "os.system('mkdir identificado')\n",
    "os.system('mkdir letras')\n",
    "\n",
    "for arquivo in arquivos:\n",
    "    imagem = cv2.imread(arquivo)\n",
    "    imagem = cv2.cvtColor(imagem, cv2.COLOR_RGB2GRAY)\n",
    "    _ , nova_imagem = cv2.threshold(imagem, 0,255, cv2.THRESH_BINARY_INV)\n",
    "    contornos , _ = cv2.findContours(nova_imagem,cv2.RETR_EXTERNAL,cv2.CHAIN_APPROX_SIMPLE)\n",
    "    regiao_letras=[]\n",
    "    for contorno in contornos:\n",
    "        (x,y,l,a) = cv2.boundingRect(contorno)\n",
    "        area = cv2.contourArea(contorno)\n",
    "        # if area > 1:\n",
    "        regiao_letras.append((x,y,l,a))\n",
    "    # if len(regiao_letras) != 6:\n",
    "    #     continue\n",
    "    imagem_final = cv2.merge([imagem]*3)\n",
    "    i=0\n",
    "    for retangulo in regiao_letras:\n",
    "        x,y,l,a = retangulo\n",
    "        imagem_letra = imagem[y-4:y+a+4, x-4:x+l+4]\n",
    "        i += 1\n",
    "        nome_arquivo = os.path.basename(arquivo).replace(\".png\",f\"letra{i}.png\")\n",
    "        cv2.imwrite(f'letras/{nome_arquivo}',imagem_letra)\n",
    "        cv2.rectangle(imagem_final,(x-4,y-4),(x+l+4,y+a+4),(0,255,0),2)\n",
    "    nome_arquivo = os.path.basename(arquivo)\n",
    "    cv2.imwrite(f'identificado/{nome_arquivo}',imagem_final)\n",
    "    "
   ]
  },
  {
   "cell_type": "code",
   "execution_count": 515,
   "id": "c1f60239-fc25-46cb-a591-bed0b2ed43e0",
   "metadata": {},
   "outputs": [
    {
     "data": {
      "text/plain": [
       "[(380, 64, 78, 44),\n",
       " (403, 69, 42, 16),\n",
       " (118, 48, 77, 54),\n",
       " (43, 32, 68, 61),\n",
       " (56, 40, 46, 44),\n",
       " (468, 26, 59, 66),\n",
       " (477, 61, 38, 25),\n",
       " (479, 34, 32, 22)]"
      ]
     },
     "execution_count": 515,
     "metadata": {},
     "output_type": "execute_result"
    }
   ],
   "source": [
    "regiao_letras"
   ]
  },
  {
   "cell_type": "code",
   "execution_count": null,
   "id": "6e3dddc1-fe7a-488d-95db-a3801633296e",
   "metadata": {},
   "outputs": [],
   "source": []
  }
 ],
 "metadata": {
  "kernelspec": {
   "display_name": ".venv1",
   "language": "python",
   "name": ".venv1"
  },
  "language_info": {
   "codemirror_mode": {
    "name": "ipython",
    "version": 3
   },
   "file_extension": ".py",
   "mimetype": "text/x-python",
   "name": "python",
   "nbconvert_exporter": "python",
   "pygments_lexer": "ipython3",
   "version": "3.9.10"
  }
 },
 "nbformat": 4,
 "nbformat_minor": 5
}
