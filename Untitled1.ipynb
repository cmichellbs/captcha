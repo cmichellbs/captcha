{
 "cells": [
  {
   "cell_type": "code",
   "execution_count": 6,
   "id": "9c1928e3-c714-4eab-9c48-06c2fdcd178d",
   "metadata": {},
   "outputs": [],
   "source": [
    "import os\n",
    "import glob\n",
    "import re"
   ]
  },
  {
   "cell_type": "code",
   "execution_count": 3,
   "id": "8a5598de-8218-4447-91e7-504ab0a12ff8",
   "metadata": {},
   "outputs": [],
   "source": [
    "arquivos = glob.glob(\"ajeitado/*\") "
   ]
  },
  {
   "cell_type": "code",
   "execution_count": 5,
   "id": "50ea8db9-baef-4189-b4a8-d78b219b5a69",
   "metadata": {},
   "outputs": [],
   "source": [
    "for arquivo in arquivos:\n",
    "    nome_arquivo = os.path.basename(arquivo)\n",
    "    regexmes = re.match(regex, nome)\n",
    "    regexano = re.match(regex, nome)\n",
    "    destino2022=\n",
    "    destino2021=\n",
    "    if regexano = '2022' :\n",
    "        mv f'{nome_arquivo} {destino2022}'\n",
    "        arquivos = glob.glob(f\"{destino2022}/*\") \n",
    "        for arquivo in arquivos:\n",
    "        nome_arquivo = os.path.basename(arquivo)\n",
    "        regexmes = re.match(regex, nome)\n",
    "            if regex \n",
    "    else:\n",
    "        mv f'{nome_arquivo} {destino2021}'\n",
    "        if\n"
   ]
  },
  {
   "cell_type": "code",
   "execution_count": 8,
   "id": "eae1e9bb-b94d-4487-866d-ad8429b5bb71",
   "metadata": {},
   "outputs": [
    {
     "ename": "SyntaxError",
     "evalue": "invalid syntax (823800114.py, line 1)",
     "output_type": "error",
     "traceback": [
      "\u001b[0;36m  Input \u001b[0;32mIn [8]\u001b[0;36m\u001b[0m\n\u001b[0;31m    switch x\u001b[0m\n\u001b[0m           ^\u001b[0m\n\u001b[0;31mSyntaxError\u001b[0m\u001b[0;31m:\u001b[0m invalid syntax\n"
     ]
    }
   ],
   "source": [
    "switch x\n",
    "    case 'one':\n",
    "        print '1'\n",
    "    case 'two':\n",
    "        print '2'\n",
    "    case 'three':\n",
    "        print '3'\n",
    "    else:\n",
    "        print \"D'oh!\""
   ]
  },
  {
   "cell_type": "code",
   "execution_count": 4,
   "id": "dc530153-0b6b-4f3e-af6c-26235e5cabd6",
   "metadata": {},
   "outputs": [],
   "source": [
    "x = 'one'"
   ]
  },
  {
   "cell_type": "code",
   "execution_count": null,
   "id": "7d0942ac-0b1d-4b4e-ad15-23e5073e2b65",
   "metadata": {},
   "outputs": [],
   "source": []
  }
 ],
 "metadata": {
  "kernelspec": {
   "display_name": ".venv1",
   "language": "python",
   "name": ".venv1"
  },
  "language_info": {
   "codemirror_mode": {
    "name": "ipython",
    "version": 3
   },
   "file_extension": ".py",
   "mimetype": "text/x-python",
   "name": "python",
   "nbconvert_exporter": "python",
   "pygments_lexer": "ipython3",
   "version": "3.9.10"
  }
 },
 "nbformat": 4,
 "nbformat_minor": 5
}
