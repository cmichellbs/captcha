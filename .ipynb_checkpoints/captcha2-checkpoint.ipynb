{
 "cells": [
  {
   "cell_type": "code",
   "execution_count": 32,
   "id": "658840c0-8902-42ec-88dc-6b74c0b8964c",
   "metadata": {},
   "outputs": [],
   "source": [
    "import cv2\n",
    "from PIL import Image"
   ]
  },
  {
   "cell_type": "code",
   "execution_count": 33,
   "id": "074cb7b3-283c-4812-b9f0-a1646d06ab1c",
   "metadata": {},
   "outputs": [],
   "source": [
    "metodos = [\n",
    "cv2.THRESH_BINARY,\n",
    "cv2.THRESH_BINARY_INV,\n",
    "cv2.THRESH_TRUNC,\n",
    "cv2.THRESH_TOZERO,\n",
    "cv2.THRESH_TOZERO_INV\n",
    "]"
   ]
  },
  {
   "cell_type": "code",
   "execution_count": 35,
   "id": "cb0e82e8-c48a-415c-a78b-c3de9496fe5c",
   "metadata": {},
   "outputs": [],
   "source": [
    "img = cv2.imread(\"indice.png\")"
   ]
  },
  {
   "cell_type": "code",
   "execution_count": 36,
   "id": "8c021bef-6fda-4df0-909a-98b4fbc006bb",
   "metadata": {},
   "outputs": [],
   "source": [
    "\n",
    "imagem_cinza = cv2.cvtColor(img,cv2.COLOR_RGB2GRAY)"
   ]
  },
  {
   "cell_type": "code",
   "execution_count": 37,
   "id": "371f59bd-0090-4021-b37c-220b46657036",
   "metadata": {},
   "outputs": [],
   "source": [
    "i=0\n",
    "for metodo in metodos:\n",
    "    i+=1\n",
    "    _ , imagem_tratada = cv2.threshold(imagem_cinza,127,255, metodo or cv2.THRESH_OTSU)\n",
    "    \n",
    "    cv2.imwrite(f\"imagem_tratada_{i}.png\",imagem_tratada)"
   ]
  },
  {
   "cell_type": "code",
   "execution_count": 27,
   "id": "d9716e56-a4d9-42a9-9a86-ac6ddb1d1c78",
   "metadata": {},
   "outputs": [],
   "source": [
    "imagem = Image.open(\"imagem_tratada_3.png\")"
   ]
  },
  {
   "cell_type": "code",
   "execution_count": 28,
   "id": "d9732c87-ceb3-471a-acd1-405c06d9bf44",
   "metadata": {},
   "outputs": [],
   "source": [
    "imagem = imagem.convert(\"P\")"
   ]
  },
  {
   "cell_type": "code",
   "execution_count": 29,
   "id": "86207c22-671c-49fd-8764-4c07c38acc25",
   "metadata": {},
   "outputs": [],
   "source": [
    "imagem2 = Image.new(\"P\",imagem.size,255)"
   ]
  },
  {
   "cell_type": "code",
   "execution_count": 31,
   "id": "6062c6c8-fcb8-4021-abb7-e341dcdff2e9",
   "metadata": {},
   "outputs": [],
   "source": [
    "for x in range(imagem.size[1]):\n",
    "    for y in range(imagem.size[0]):\n",
    "        cor_pixel = imagem.getpixel((y,x))\n",
    "        if cor_pixel < 115:\n",
    "            imagem2.putpixel((y,x),0)\n",
    "imagem2.save('imagemfinal.png')"
   ]
  },
  {
   "cell_type": "code",
   "execution_count": null,
   "id": "6f9559c2-efbb-4f9a-a739-c496de7a3740",
   "metadata": {},
   "outputs": [],
   "source": []
  }
 ],
 "metadata": {
  "kernelspec": {
   "display_name": ".venv1",
   "language": "python",
   "name": ".venv1"
  },
  "language_info": {
   "codemirror_mode": {
    "name": "ipython",
    "version": 3
   },
   "file_extension": ".py",
   "mimetype": "text/x-python",
   "name": "python",
   "nbconvert_exporter": "python",
   "pygments_lexer": "ipython3",
   "version": "3.9.10"
  }
 },
 "nbformat": 4,
 "nbformat_minor": 5
}
