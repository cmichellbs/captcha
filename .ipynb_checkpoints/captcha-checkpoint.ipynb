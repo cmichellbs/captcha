{
 "cells": [
  {
   "cell_type": "code",
   "execution_count": 23,
   "id": "3d316e59-d3a9-4a2b-ab8e-1b4831ab5a61",
   "metadata": {},
   "outputs": [],
   "source": [
    "import requests\n",
    "from selenium import webdriver\n",
    "import base64\n",
    "import re\n",
    "from PIL import Image\n",
    "import pandas as pd\n",
    "import urllib\n",
    "from io import BytesIO\n",
    "from bs4 import BeautifulSoup as bs\n",
    "import numpy as np\n",
    "import cv2\n",
    "from selenium.webdriver.firefox.options import Options\n",
    "from selenium.webdriver.support.ui import WebDriverWait\n",
    "from gerador import geradorDePisPasep\n",
    "import string\n",
    "from random import randint"
   ]
  },
  {
   "cell_type": "code",
   "execution_count": 24,
   "id": "37823b71-1b8e-48bf-8347-dee167c69098",
   "metadata": {},
   "outputs": [],
   "source": [
    "def geradorDePisPasep( formatar ):\n",
    "\n",
    "   # 9 números aleatórios\n",
    "   arNumeros = []\n",
    "   for i in range(10):\n",
    "      arNumeros.append(randint(0,9))      \n",
    "\n",
    "   # Calculado DV\n",
    "   somaJ = ( arNumeros[0] * 3 ) + ( arNumeros[1] * 2 ) + ( arNumeros[2] * 9 ) + ( arNumeros[3] * 8 )  + ( arNumeros[4] * 7 ) + ( arNumeros[5] * 6 ) + ( arNumeros[6] * 5 )  + ( arNumeros[7] * 4 ) + ( arNumeros[8] * 3 ) + ( arNumeros[9] * 2 )\n",
    "\n",
    "   restoJ = somaJ % 11\n",
    "   subtracao = 11 - restoJ\n",
    "\n",
    "   if ( subtracao == 10 or subtracao == 11 ):\n",
    "      j = 0\n",
    "   else:\n",
    "      j = subtracao   \n",
    "\n",
    "   arNumeros.append( j )\n",
    "\n",
    "   pis = ''.join(str(x) for x in arNumeros)\n",
    "\n",
    "   if formatar:\n",
    "      return pis[ :10 ] + '-' + pis[ 10: ]\n",
    "   else:\n",
    "      return pis"
   ]
  },
  {
   "cell_type": "code",
   "execution_count": 25,
   "id": "5d479acd-c3e7-4b4a-a122-6bb0bee9f414",
   "metadata": {},
   "outputs": [],
   "source": [
    "option = Options()\n",
    "option.headless = False"
   ]
  },
  {
   "cell_type": "code",
   "execution_count": 28,
   "id": "aac2fd4e-f0be-4cfd-a47a-fd1f98242fa0",
   "metadata": {},
   "outputs": [
    {
     "name": "stderr",
     "output_type": "stream",
     "text": [
      "/tmp/ipykernel_384711/4107909970.py:5: DeprecationWarning: find_element_by_xpath is deprecated. Please use find_element(by=By.XPATH, value=xpath) instead\n",
      "  navegador.find_element_by_xpath('//*[@id=\"j_idt42:pis\"]').send_keys(f'{pis}')\n"
     ]
    }
   ],
   "source": [
    "pis = geradorDePisPasep(False)\n",
    "navegador = webdriver.Firefox(options=option)\n",
    "navegador.get('http://rais.gov.br/sitio/consulta_trabalhador_identificacao.jsf')\n",
    "# navegador.find_element_by_xpath('//*[@id=\"j_idt42:pis\"]').click()\n",
    "navegador.find_element_by_xpath('//*[@id=\"j_idt42:pis\"]').send_keys(f'{pis}')"
   ]
  },
  {
   "cell_type": "code",
   "execution_count": null,
   "id": "9ebc011b-1a30-4a04-b333-e8a7e4faed7f",
   "metadata": {},
   "outputs": [],
   "source": [
    "for i in range(10):\n",
    "    navegador.find_element_by_xpath('//*[@id=\"btnRecarregar_captcha_serpro_gov_br\"]').click()\n",
    "    #img = navegador.find_element_by_xpath('//*[@id=\"img_captcha_serpro_gov_br\"]').screenshot(f'bdcaptcha/img{i}.png')\n",
    "    img = navegador.find_element_by_xpath('//*[@id=\"img_captcha_serpro_gov_br\"]').get_attribute('src').split(',')[1]\n",
    "    img=base64.b64encode(base64.b64decode(img))\n",
    "    fh = open(f\"imagem{i}.png\", \"wb\")\n",
    "    fh.write(base64.decodebytes(img))\n",
    "    fh.close()\n",
    "    imagem = cv2.imread(f\"imagem{i}.png\",1)\n",
    "    img_scale_up = cv2.resize(imagem, (0, 0), fx=3, fy=3)\n",
    "    cv2.imwrite(f'imagem{i}.png',img_scale_up)"
   ]
  },
  {
   "cell_type": "code",
   "execution_count": null,
   "id": "e5a1f861-e592-46f4-ace8-5aecb59772e9",
   "metadata": {},
   "outputs": [],
   "source": []
  }
 ],
 "metadata": {
  "kernelspec": {
   "display_name": ".venv1",
   "language": "python",
   "name": ".venv1"
  },
  "language_info": {
   "codemirror_mode": {
    "name": "ipython",
    "version": 3
   },
   "file_extension": ".py",
   "mimetype": "text/x-python",
   "name": "python",
   "nbconvert_exporter": "python",
   "pygments_lexer": "ipython3",
   "version": "3.9.10"
  }
 },
 "nbformat": 4,
 "nbformat_minor": 5
}
