{
 "cells": [
  {
   "cell_type": "code",
   "execution_count": 42,
   "id": "d0cb124c-4d40-42ab-8341-da64e70bff79",
   "metadata": {},
   "outputs": [],
   "source": [
    "# import the necessary modules\n",
    "import argparse\n",
    "import cv2\n",
    " \n"
   ]
  },
  {
   "cell_type": "code",
   "execution_count": 43,
   "id": "83899c8c-0e95-4177-b460-49fc3e5c1777",
   "metadata": {},
   "outputs": [],
   "source": [
    "img = cv2.imread('ajeitado/imagem0.png')"
   ]
  },
  {
   "cell_type": "code",
   "execution_count": 44,
   "id": "ea1a02d0-91b0-4b1a-b36f-aff7f60f3880",
   "metadata": {},
   "outputs": [],
   "source": [
    "##########################################\n",
    "# At first vertical devide image         #\n",
    "##########################################\n",
    "# start vertical devide image\n",
    "height = img.shape[0]\n",
    "width = img.shape[1]\n",
    "# Cut the image in half\n",
    "width_cutoff = width // 6\n",
    "left1 = img[:, :width_cutoff]\n",
    "right1 = img[:, width_cutoff:]\n",
    "# finish vertical devide image\n",
    "letras = []\n",
    "letras.append(img[:, :width_cutoff+20])\n",
    "letras.append(img[:, width_cutoff+20:2*width_cutoff+12])\n",
    "letras.append(img[:, 2*width_cutoff+12:3*width_cutoff+12])\n",
    "letras.append(img[:, 3*width_cutoff+12:4*width_cutoff+12])\n",
    "letras.append(img[:, 4*width_cutoff+12:5*width_cutoff+12])\n",
    "letras.append(img[:, 5*width_cutoff+12:])"
   ]
  },
  {
   "cell_type": "code",
   "execution_count": 45,
   "id": "6ee6a0b5-ae54-48ef-b39b-b3b8d79e5ff9",
   "metadata": {},
   "outputs": [],
   "source": [
    "i=0\n",
    "for letra in letras:\n",
    "    i+=1\n",
    "    cv2.imwrite(f'ajeitado/imagem0_letra{i}.png',letra)\n"
   ]
  },
  {
   "cell_type": "code",
   "execution_count": null,
   "id": "3cd17649-db41-4bf3-a934-9ab2fa3cf242",
   "metadata": {},
   "outputs": [],
   "source": []
  }
 ],
 "metadata": {
  "kernelspec": {
   "display_name": ".venv1",
   "language": "python",
   "name": ".venv1"
  },
  "language_info": {
   "codemirror_mode": {
    "name": "ipython",
    "version": 3
   },
   "file_extension": ".py",
   "mimetype": "text/x-python",
   "name": "python",
   "nbconvert_exporter": "python",
   "pygments_lexer": "ipython3",
   "version": "3.9.10"
  }
 },
 "nbformat": 4,
 "nbformat_minor": 5
}
