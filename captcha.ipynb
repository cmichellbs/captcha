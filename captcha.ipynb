{
 "cells": [
  {
   "cell_type": "code",
   "execution_count": 24,
   "id": "3d316e59-d3a9-4a2b-ab8e-1b4831ab5a61",
   "metadata": {},
   "outputs": [],
   "source": [
    "from selenium import webdriver\n",
    "import base64\n",
    "import re\n",
    "from PIL import Image\n",
    "import pandas as pd\n",
    "from bs4 import BeautifulSoup as bs\n",
    "import cv2\n",
    "from selenium.webdriver.firefox.options import Options\n",
    "from geradorPis import geradorDePisPasep\n",
    "from random import randint\n",
    "from quebrarCaptcha import quebrarCaptcha\n",
    "import pandas as pd\n",
    "import time\n",
    "import sqlalchemy as sa\n",
    "import psycopg2\n"
   ]
  },
  {
   "cell_type": "code",
   "execution_count": 25,
   "id": "aac2fd4e-f0be-4cfd-a47a-fd1f98242fa0",
   "metadata": {},
   "outputs": [],
   "source": [
    "option = Options()\n",
    "option.headless = False\n",
    "navegador = webdriver.Firefox(options=option,keep_alive=False)\n",
    "navegador.delete_all_cookies()\n",
    "navegador.get('http://rais.gov.br/sitio/consulta_trabalhador_identificacao.jsf')\n",
    "\n",
    "\n",
    "\n",
    "\n",
    "# navegador.find_element_by_xpath('//*[@id=\"j_idt42:pis\"]').click()\n",
    "\n",
    "\n"
   ]
  },
  {
   "cell_type": "code",
   "execution_count": 26,
   "id": "16478e84-0008-4148-b4b0-223832d5d94f",
   "metadata": {},
   "outputs": [],
   "source": [
    "time.sleep(3)"
   ]
  },
  {
   "cell_type": "code",
   "execution_count": 27,
   "id": "8b571e24-9554-42d1-a950-fed4677401f1",
   "metadata": {},
   "outputs": [],
   "source": [
    "src = navegador.page_source"
   ]
  },
  {
   "cell_type": "code",
   "execution_count": 28,
   "id": "52be4a43-6df0-4f95-ad99-68a8c896703b",
   "metadata": {},
   "outputs": [],
   "source": [
    "padrao = '.id=\"j_idt[0-9]+:pis\"'"
   ]
  },
  {
   "cell_type": "code",
   "execution_count": 29,
   "id": "3e959178-b3ca-40eb-8004-7af5400302a0",
   "metadata": {},
   "outputs": [],
   "source": [
    "padrao2 = '.name=\"j_idt[0-9]+:j_idt[0-9]+\".value=\"Avançar\"'"
   ]
  },
  {
   "cell_type": "code",
   "execution_count": 30,
   "id": "e7c7e80c-598b-4bc1-977b-76bd69e45cda",
   "metadata": {},
   "outputs": [],
   "source": [
    "resultado = re.search(padrao, src)\n",
    "resultado = resultado.group().split('=\"')[1].split('\"')[0]\n",
    "resultado2 = re.search(padrao2,src)\n",
    "resultado2 = resultado2.group().split('=\"')[1].split('\"')[0]"
   ]
  },
  {
   "cell_type": "code",
   "execution_count": 31,
   "id": "9ec8cac5-a12f-4eb1-8aa6-8032846206cc",
   "metadata": {},
   "outputs": [
    {
     "data": {
      "text/plain": [
       "'j_idt40:j_idt48'"
      ]
     },
     "execution_count": 31,
     "metadata": {},
     "output_type": "execute_result"
    }
   ],
   "source": [
    "resultado2"
   ]
  },
  {
   "cell_type": "code",
   "execution_count": 32,
   "id": "f0fd6503-ae43-4e0b-92d4-ed874e046467",
   "metadata": {},
   "outputs": [
    {
     "name": "stderr",
     "output_type": "stream",
     "text": [
      "/tmp/ipykernel_700466/507650300.py:1: DeprecationWarning: find_element_by_name is deprecated. Please use find_element(by=By.NAME, value=name) instead\n",
      "  navegador.find_element_by_name(resultado).send_keys(f'20195997101')\n"
     ]
    }
   ],
   "source": [
    "navegador.find_element_by_name(resultado).send_keys(f'20195997101')"
   ]
  },
  {
   "cell_type": "code",
   "execution_count": null,
   "id": "9bd42a39-d894-488d-9096-51039588cb01",
   "metadata": {},
   "outputs": [],
   "source": []
  },
  {
   "cell_type": "code",
   "execution_count": 33,
   "id": "a1d533ed-69cf-4706-af22-51599544dc04",
   "metadata": {},
   "outputs": [
    {
     "name": "stderr",
     "output_type": "stream",
     "text": [
      "/tmp/ipykernel_700466/3228145220.py:1: DeprecationWarning: find_element_by_* commands are deprecated. Please use find_element() instead\n",
      "  navegador.find_element_by_id('btnRecarregar_captcha_serpro_gov_br').click()\n"
     ]
    }
   ],
   "source": [
    "navegador.find_element_by_id('btnRecarregar_captcha_serpro_gov_br').click()"
   ]
  },
  {
   "cell_type": "code",
   "execution_count": 34,
   "id": "82c27f86-d5d4-4408-93ce-808cca833505",
   "metadata": {},
   "outputs": [
    {
     "name": "stderr",
     "output_type": "stream",
     "text": [
      "/tmp/ipykernel_700466/22805359.py:2: DeprecationWarning: find_element_by_xpath is deprecated. Please use find_element(by=By.XPATH, value=xpath) instead\n",
      "  img = navegador.find_element_by_xpath('//*[@id=\"img_captcha_serpro_gov_br\"]').get_attribute('src').split(',')[1]\n"
     ]
    },
    {
     "data": {
      "text/plain": [
       "True"
      ]
     },
     "execution_count": 34,
     "metadata": {},
     "output_type": "execute_result"
    }
   ],
   "source": [
    "time.sleep(2)\n",
    "img = navegador.find_element_by_xpath('//*[@id=\"img_captcha_serpro_gov_br\"]').get_attribute('src').split(',')[1]\n",
    "img=base64.b64encode(base64.b64decode(img))\n",
    "fh = open(f\"resolver/imagem.png\", \"wb\")\n",
    "fh.write(base64.decodebytes(img))\n",
    "fh.close()\n",
    "imagem = cv2.imread(\"resolver/imagem.png\",1)\n",
    "img_scale_up = cv2.resize(imagem, (0, 0), fx=3, fy=3)\n",
    "cv2.imwrite(f'resolver/imagem.png',img_scale_up)"
   ]
  },
  {
   "cell_type": "code",
   "execution_count": 35,
   "id": "7580de48-5836-40f7-bdaa-536c5bf03ae8",
   "metadata": {},
   "outputs": [
    {
     "name": "stdout",
     "output_type": "stream",
     "text": [
      "R18iar\n"
     ]
    }
   ],
   "source": [
    "\n",
    "captcha = quebrarCaptcha()\n"
   ]
  },
  {
   "cell_type": "code",
   "execution_count": 36,
   "id": "2307398b-74ec-43a8-b6fe-572bef3550d1",
   "metadata": {},
   "outputs": [
    {
     "name": "stderr",
     "output_type": "stream",
     "text": [
      "/tmp/ipykernel_700466/3595506688.py:1: DeprecationWarning: find_element_by_xpath is deprecated. Please use find_element(by=By.XPATH, value=xpath) instead\n",
      "  navegador.find_element_by_xpath('//*[@id=\"txtTexto_captcha_serpro_gov_br\"]').send_keys(f'{captcha}')\n",
      "/tmp/ipykernel_700466/3595506688.py:2: DeprecationWarning: find_element_by_name is deprecated. Please use find_element(by=By.NAME, value=name) instead\n",
      "  navegador.find_element_by_name(resultado2).click()\n"
     ]
    }
   ],
   "source": [
    "navegador.find_element_by_xpath('//*[@id=\"txtTexto_captcha_serpro_gov_br\"]').send_keys(f'{captcha}')\n",
    "navegador.find_element_by_name(resultado2).click()"
   ]
  },
  {
   "cell_type": "code",
   "execution_count": 37,
   "id": "0beed8fc",
   "metadata": {},
   "outputs": [],
   "source": [
    "trabalhador = navegador.page_source"
   ]
  },
  {
   "cell_type": "code",
   "execution_count": null,
   "id": "2474dd2a",
   "metadata": {},
   "outputs": [],
   "source": []
  },
  {
   "cell_type": "code",
   "execution_count": null,
   "id": "922eec7f",
   "metadata": {},
   "outputs": [],
   "source": []
  },
  {
   "cell_type": "code",
   "execution_count": 38,
   "id": "82f38020",
   "metadata": {},
   "outputs": [
    {
     "name": "stderr",
     "output_type": "stream",
     "text": [
      "/tmp/ipykernel_700466/1952604686.py:2: DeprecationWarning: find_element_by_xpath is deprecated. Please use find_element(by=By.XPATH, value=xpath) instead\n",
      "  validador = navegador.find_element_by_xpath('/html/body/div[2]/div[5]/ul/li').get_attribute('innerHTML')\n"
     ]
    }
   ],
   "source": [
    "try:\n",
    "    validador = navegador.find_element_by_xpath('/html/body/div[2]/div[5]/ul/li').get_attribute('innerHTML')\n",
    "except:\n",
    "    validador = None"
   ]
  },
  {
   "cell_type": "code",
   "execution_count": 39,
   "id": "d918d3c1",
   "metadata": {},
   "outputs": [
    {
     "ename": "AttributeError",
     "evalue": "'NoneType' object has no attribute 'strip'",
     "output_type": "error",
     "traceback": [
      "\u001b[0;31m---------------------------------------------------------------------------\u001b[0m",
      "\u001b[0;31mAttributeError\u001b[0m                            Traceback (most recent call last)",
      "\u001b[1;32m/home/christhian.souza/projects/captcha/captcha.ipynb Cell 19'\u001b[0m in \u001b[0;36m<cell line: 1>\u001b[0;34m()\u001b[0m\n\u001b[0;32m----> <a href='vscode-notebook-cell:/home/christhian.souza/projects/captcha/captcha.ipynb#ch0000017?line=0'>1</a>\u001b[0m validador \u001b[39m=\u001b[39m validador\u001b[39m.\u001b[39;49mstrip()\n\u001b[1;32m      <a href='vscode-notebook-cell:/home/christhian.souza/projects/captcha/captcha.ipynb#ch0000017?line=1'>2</a>\u001b[0m validador\n",
      "\u001b[0;31mAttributeError\u001b[0m: 'NoneType' object has no attribute 'strip'"
     ]
    }
   ],
   "source": [
    "# validador = validador.strip()\n",
    "validador"
   ]
  },
  {
   "cell_type": "code",
   "execution_count": 46,
   "id": "c4c7c6d7",
   "metadata": {},
   "outputs": [
    {
     "name": "stderr",
     "output_type": "stream",
     "text": [
      "/tmp/ipykernel_700466/1248569906.py:1: DeprecationWarning: find_element_by_xpath is deprecated. Please use find_element(by=By.XPATH, value=xpath) instead\n",
      "  nome = navegador.find_element_by_xpath('//*[@id=\"j_idt27\"]/div[2]/div/p').get_attribute('innerHTML').split('-')[1].strip()\n"
     ]
    }
   ],
   "source": [
    "nome = navegador.find_element_by_xpath('//*[@id=\"j_idt27\"]/div[2]/div/p').get_attribute('innerHTML').split('-')[1].strip()"
   ]
  },
  {
   "cell_type": "code",
   "execution_count": 47,
   "id": "a093d335",
   "metadata": {},
   "outputs": [
    {
     "data": {
      "text/plain": [
       "'CHRISTHIAN MICHELL BERNARDO SOUZA'"
      ]
     },
     "execution_count": 47,
     "metadata": {},
     "output_type": "execute_result"
    }
   ],
   "source": [
    "nome"
   ]
  },
  {
   "cell_type": "code",
   "execution_count": null,
   "id": "ffeac7e7",
   "metadata": {},
   "outputs": [],
   "source": []
  }
 ],
 "metadata": {
  "interpreter": {
   "hash": "7508f6b29652a1d748f738c4308f401b836710fcd75330c7b730979bfd3f3c28"
  },
  "kernelspec": {
   "display_name": ".venv1",
   "language": "python",
   "name": "python3"
  },
  "language_info": {
   "codemirror_mode": {
    "name": "ipython",
    "version": 3
   },
   "file_extension": ".py",
   "mimetype": "text/x-python",
   "name": "python",
   "nbconvert_exporter": "python",
   "pygments_lexer": "ipython3",
   "version": "3.9.12"
  }
 },
 "nbformat": 4,
 "nbformat_minor": 5
}
