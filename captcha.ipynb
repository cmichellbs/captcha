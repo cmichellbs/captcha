{
 "cells": [
  {
   "cell_type": "code",
   "execution_count": 1,
   "id": "3d316e59-d3a9-4a2b-ab8e-1b4831ab5a61",
   "metadata": {},
   "outputs": [
    {
     "name": "stderr",
     "output_type": "stream",
     "text": [
      "2022-04-10 14:59:44.913434: W tensorflow/stream_executor/platform/default/dso_loader.cc:64] Could not load dynamic library 'libcudart.so.11.0'; dlerror: libcudart.so.11.0: cannot open shared object file: No such file or directory; LD_LIBRARY_PATH: /home/christhian.souza/projects/venvs/.venv1/lib/python3.9/site-packages/cv2/../../lib64:\n",
      "2022-04-10 14:59:44.913453: I tensorflow/stream_executor/cuda/cudart_stub.cc:29] Ignore above cudart dlerror if you do not have a GPU set up on your machine.\n"
     ]
    }
   ],
   "source": [
    "import requests\n",
    "from selenium import webdriver\n",
    "import base64\n",
    "import re\n",
    "from PIL import Image\n",
    "import pandas as pd\n",
    "import urllib\n",
    "from io import BytesIO\n",
    "from bs4 import BeautifulSoup as bs\n",
    "import numpy as np\n",
    "import cv2\n",
    "from selenium.webdriver.firefox.options import Options\n",
    "from selenium.webdriver.support.ui import WebDriverWait\n",
    "from geradorPis import geradorDePisPasep\n",
    "import string\n",
    "from random import randint\n",
    "from quebrarCaptcha import quebrarCaptcha\n",
    "import pandas as pd\n",
    "from selenium.webdriver.support import expected_conditions as EC\n",
    "from selenium.webdriver.common.by import By\n",
    "import time"
   ]
  },
  {
   "cell_type": "code",
   "execution_count": 18,
   "id": "f01d89fc-257d-4f43-bab5-b1a95520b72f",
   "metadata": {},
   "outputs": [],
   "source": [
    "df = pd.read_csv('resultados mega - Página1.csv')"
   ]
  },
  {
   "cell_type": "code",
   "execution_count": 19,
   "id": "5727b589-353d-4d6a-8dc7-4bcda26449d0",
   "metadata": {},
   "outputs": [
    {
     "data": {
      "text/html": [
       "<div>\n",
       "<style scoped>\n",
       "    .dataframe tbody tr th:only-of-type {\n",
       "        vertical-align: middle;\n",
       "    }\n",
       "\n",
       "    .dataframe tbody tr th {\n",
       "        vertical-align: top;\n",
       "    }\n",
       "\n",
       "    .dataframe thead th {\n",
       "        text-align: right;\n",
       "    }\n",
       "</style>\n",
       "<table border=\"1\" class=\"dataframe\">\n",
       "  <thead>\n",
       "    <tr style=\"text-align: right;\">\n",
       "      <th></th>\n",
       "      <th>Concurso</th>\n",
       "      <th>Data do Sorteio</th>\n",
       "      <th>Coluna1</th>\n",
       "      <th>Coluna2</th>\n",
       "      <th>Coluna3</th>\n",
       "      <th>Coluna4</th>\n",
       "      <th>Coluna5</th>\n",
       "      <th>Coluna6</th>\n",
       "      <th>Ganhadores Faixa 1</th>\n",
       "      <th>Ganhadores Faixa 2</th>\n",
       "      <th>...</th>\n",
       "      <th>Rateio Faixa 1</th>\n",
       "      <th>Rateio Faixa2</th>\n",
       "      <th>Rateio Faixa 3</th>\n",
       "      <th>Cidade</th>\n",
       "      <th>Valor Arrecadado</th>\n",
       "      <th>Estimativa para o próximo concurso</th>\n",
       "      <th>Valor Acumulado Próximo Concurso</th>\n",
       "      <th>Acumulado</th>\n",
       "      <th>Sorteio Especial</th>\n",
       "      <th>Observação</th>\n",
       "    </tr>\n",
       "  </thead>\n",
       "  <tbody>\n",
       "    <tr>\n",
       "      <th>0</th>\n",
       "      <td>1</td>\n",
       "      <td>11/03/1996</td>\n",
       "      <td>4</td>\n",
       "      <td>5</td>\n",
       "      <td>30</td>\n",
       "      <td>33</td>\n",
       "      <td>41</td>\n",
       "      <td>52</td>\n",
       "      <td>0</td>\n",
       "      <td>17</td>\n",
       "      <td>...</td>\n",
       "      <td>R$0,00</td>\n",
       "      <td>R$39.158,92</td>\n",
       "      <td>R$330,21</td>\n",
       "      <td>NaN</td>\n",
       "      <td>R$0,00</td>\n",
       "      <td>R$0,00</td>\n",
       "      <td>R$1.714.650,23</td>\n",
       "      <td>Sim</td>\n",
       "      <td>Não</td>\n",
       "      <td>NaN</td>\n",
       "    </tr>\n",
       "    <tr>\n",
       "      <th>1</th>\n",
       "      <td>2</td>\n",
       "      <td>18/03/1996</td>\n",
       "      <td>9</td>\n",
       "      <td>37</td>\n",
       "      <td>39</td>\n",
       "      <td>41</td>\n",
       "      <td>43</td>\n",
       "      <td>49</td>\n",
       "      <td>1</td>\n",
       "      <td>65</td>\n",
       "      <td>...</td>\n",
       "      <td>R$2.307.162,23</td>\n",
       "      <td>R$14.424,02</td>\n",
       "      <td>R$208,91</td>\n",
       "      <td>PR</td>\n",
       "      <td>R$0,00</td>\n",
       "      <td>R$0,00</td>\n",
       "      <td>R$0,00</td>\n",
       "      <td>Não</td>\n",
       "      <td>Não</td>\n",
       "      <td>NaN</td>\n",
       "    </tr>\n",
       "    <tr>\n",
       "      <th>2</th>\n",
       "      <td>3</td>\n",
       "      <td>25/03/1996</td>\n",
       "      <td>10</td>\n",
       "      <td>11</td>\n",
       "      <td>29</td>\n",
       "      <td>30</td>\n",
       "      <td>36</td>\n",
       "      <td>47</td>\n",
       "      <td>2</td>\n",
       "      <td>62</td>\n",
       "      <td>...</td>\n",
       "      <td>R$391.192,51</td>\n",
       "      <td>R$10.515,93</td>\n",
       "      <td>R$153,01</td>\n",
       "      <td>RN   SP</td>\n",
       "      <td>R$0,00</td>\n",
       "      <td>R$0,00</td>\n",
       "      <td>R$0,00</td>\n",
       "      <td>Não</td>\n",
       "      <td>Não</td>\n",
       "      <td>NaN</td>\n",
       "    </tr>\n",
       "    <tr>\n",
       "      <th>3</th>\n",
       "      <td>4</td>\n",
       "      <td>01/04/1996</td>\n",
       "      <td>1</td>\n",
       "      <td>5</td>\n",
       "      <td>6</td>\n",
       "      <td>27</td>\n",
       "      <td>42</td>\n",
       "      <td>59</td>\n",
       "      <td>0</td>\n",
       "      <td>39</td>\n",
       "      <td>...</td>\n",
       "      <td>R$0,00</td>\n",
       "      <td>R$15.322,24</td>\n",
       "      <td>R$180,48</td>\n",
       "      <td>NaN</td>\n",
       "      <td>R$0,00</td>\n",
       "      <td>R$0,00</td>\n",
       "      <td>R$717.080,75</td>\n",
       "      <td>Sim</td>\n",
       "      <td>Não</td>\n",
       "      <td>NaN</td>\n",
       "    </tr>\n",
       "    <tr>\n",
       "      <th>4</th>\n",
       "      <td>5</td>\n",
       "      <td>08/04/1996</td>\n",
       "      <td>1</td>\n",
       "      <td>2</td>\n",
       "      <td>6</td>\n",
       "      <td>16</td>\n",
       "      <td>19</td>\n",
       "      <td>46</td>\n",
       "      <td>0</td>\n",
       "      <td>98</td>\n",
       "      <td>...</td>\n",
       "      <td>R$0,00</td>\n",
       "      <td>R$5.318,10</td>\n",
       "      <td>R$96,53</td>\n",
       "      <td>NaN</td>\n",
       "      <td>R$0,00</td>\n",
       "      <td>R$0,00</td>\n",
       "      <td>R$1.342.488,85</td>\n",
       "      <td>Sim</td>\n",
       "      <td>Não</td>\n",
       "      <td>NaN</td>\n",
       "    </tr>\n",
       "    <tr>\n",
       "      <th>...</th>\n",
       "      <td>...</td>\n",
       "      <td>...</td>\n",
       "      <td>...</td>\n",
       "      <td>...</td>\n",
       "      <td>...</td>\n",
       "      <td>...</td>\n",
       "      <td>...</td>\n",
       "      <td>...</td>\n",
       "      <td>...</td>\n",
       "      <td>...</td>\n",
       "      <td>...</td>\n",
       "      <td>...</td>\n",
       "      <td>...</td>\n",
       "      <td>...</td>\n",
       "      <td>...</td>\n",
       "      <td>...</td>\n",
       "      <td>...</td>\n",
       "      <td>...</td>\n",
       "      <td>...</td>\n",
       "      <td>...</td>\n",
       "      <td>...</td>\n",
       "    </tr>\n",
       "    <tr>\n",
       "      <th>2465</th>\n",
       "      <td>2466</td>\n",
       "      <td>26/03/2022</td>\n",
       "      <td>2</td>\n",
       "      <td>3</td>\n",
       "      <td>13</td>\n",
       "      <td>20</td>\n",
       "      <td>53</td>\n",
       "      <td>54</td>\n",
       "      <td>0</td>\n",
       "      <td>156</td>\n",
       "      <td>...</td>\n",
       "      <td>R$0,00</td>\n",
       "      <td>R$42.402,06</td>\n",
       "      <td>R$892,90</td>\n",
       "      <td>NaN</td>\n",
       "      <td>R$114.728.346,00</td>\n",
       "      <td>R$110.000.000,00</td>\n",
       "      <td>R$91.749.995,68</td>\n",
       "      <td>Sim</td>\n",
       "      <td>Não</td>\n",
       "      <td>NaN</td>\n",
       "    </tr>\n",
       "    <tr>\n",
       "      <th>2466</th>\n",
       "      <td>2467</td>\n",
       "      <td>30/03/2022</td>\n",
       "      <td>1</td>\n",
       "      <td>10</td>\n",
       "      <td>19</td>\n",
       "      <td>34</td>\n",
       "      <td>35</td>\n",
       "      <td>45</td>\n",
       "      <td>0</td>\n",
       "      <td>168</td>\n",
       "      <td>...</td>\n",
       "      <td>R$0,00</td>\n",
       "      <td>R$45.486,09</td>\n",
       "      <td>R$960,04</td>\n",
       "      <td>NaN</td>\n",
       "      <td>R$132.540.043,50</td>\n",
       "      <td>R$120.000.000,00</td>\n",
       "      <td>R$105.826.742,35</td>\n",
       "      <td>Sim</td>\n",
       "      <td>Não</td>\n",
       "      <td>NaN</td>\n",
       "    </tr>\n",
       "    <tr>\n",
       "      <th>2467</th>\n",
       "      <td>2468</td>\n",
       "      <td>02/04/2022</td>\n",
       "      <td>22</td>\n",
       "      <td>35</td>\n",
       "      <td>41</td>\n",
       "      <td>42</td>\n",
       "      <td>53</td>\n",
       "      <td>57</td>\n",
       "      <td>1</td>\n",
       "      <td>267</td>\n",
       "      <td>...</td>\n",
       "      <td>R$122.627.171,80</td>\n",
       "      <td>R$34.158,18</td>\n",
       "      <td>R$628,38</td>\n",
       "      <td>SANTOS SP</td>\n",
       "      <td>R$158.184.963,00</td>\n",
       "      <td>R$3.000.000,00</td>\n",
       "      <td>R$0,00</td>\n",
       "      <td>Não</td>\n",
       "      <td>Não</td>\n",
       "      <td>NaN</td>\n",
       "    </tr>\n",
       "    <tr>\n",
       "      <th>2468</th>\n",
       "      <td>2469</td>\n",
       "      <td>06/04/2022</td>\n",
       "      <td>5</td>\n",
       "      <td>28</td>\n",
       "      <td>30</td>\n",
       "      <td>38</td>\n",
       "      <td>52</td>\n",
       "      <td>55</td>\n",
       "      <td>0</td>\n",
       "      <td>34</td>\n",
       "      <td>...</td>\n",
       "      <td>R$0,00</td>\n",
       "      <td>R$60.884,93</td>\n",
       "      <td>R$1.316,68</td>\n",
       "      <td>NaN</td>\n",
       "      <td>R$35.904.424,50</td>\n",
       "      <td>R$45.000.000,00</td>\n",
       "      <td>R$39.673.720,61</td>\n",
       "      <td>Sim</td>\n",
       "      <td>Não</td>\n",
       "      <td>NaN</td>\n",
       "    </tr>\n",
       "    <tr>\n",
       "      <th>2469</th>\n",
       "      <td>2470</td>\n",
       "      <td>09/04/2022</td>\n",
       "      <td>8</td>\n",
       "      <td>33</td>\n",
       "      <td>40</td>\n",
       "      <td>42</td>\n",
       "      <td>48</td>\n",
       "      <td>51</td>\n",
       "      <td>0</td>\n",
       "      <td>81</td>\n",
       "      <td>...</td>\n",
       "      <td>R$0,00</td>\n",
       "      <td>R$57.198,65</td>\n",
       "      <td>R$1.068,04</td>\n",
       "      <td>NaN</td>\n",
       "      <td>R$80.358.174,00</td>\n",
       "      <td>R$60.000.000,00</td>\n",
       "      <td>R$48.208.361,37</td>\n",
       "      <td>Sim</td>\n",
       "      <td>Não</td>\n",
       "      <td>NaN</td>\n",
       "    </tr>\n",
       "  </tbody>\n",
       "</table>\n",
       "<p>2470 rows × 21 columns</p>\n",
       "</div>"
      ],
      "text/plain": [
       "      Concurso Data do Sorteio  Coluna1  Coluna2  Coluna3  Coluna4  Coluna5  \\\n",
       "0            1      11/03/1996        4        5       30       33       41   \n",
       "1            2      18/03/1996        9       37       39       41       43   \n",
       "2            3      25/03/1996       10       11       29       30       36   \n",
       "3            4      01/04/1996        1        5        6       27       42   \n",
       "4            5      08/04/1996        1        2        6       16       19   \n",
       "...        ...             ...      ...      ...      ...      ...      ...   \n",
       "2465      2466      26/03/2022        2        3       13       20       53   \n",
       "2466      2467      30/03/2022        1       10       19       34       35   \n",
       "2467      2468      02/04/2022       22       35       41       42       53   \n",
       "2468      2469      06/04/2022        5       28       30       38       52   \n",
       "2469      2470      09/04/2022        8       33       40       42       48   \n",
       "\n",
       "      Coluna6  Ganhadores Faixa 1  Ganhadores Faixa 2  ...    Rateio Faixa 1  \\\n",
       "0          52                   0                  17  ...            R$0,00   \n",
       "1          49                   1                  65  ...    R$2.307.162,23   \n",
       "2          47                   2                  62  ...      R$391.192,51   \n",
       "3          59                   0                  39  ...            R$0,00   \n",
       "4          46                   0                  98  ...            R$0,00   \n",
       "...       ...                 ...                 ...  ...               ...   \n",
       "2465       54                   0                 156  ...            R$0,00   \n",
       "2466       45                   0                 168  ...            R$0,00   \n",
       "2467       57                   1                 267  ...  R$122.627.171,80   \n",
       "2468       55                   0                  34  ...            R$0,00   \n",
       "2469       51                   0                  81  ...            R$0,00   \n",
       "\n",
       "     Rateio Faixa2 Rateio Faixa 3     Cidade  Valor Arrecadado  \\\n",
       "0      R$39.158,92       R$330,21        NaN            R$0,00   \n",
       "1      R$14.424,02       R$208,91         PR            R$0,00   \n",
       "2      R$10.515,93       R$153,01    RN   SP            R$0,00   \n",
       "3      R$15.322,24       R$180,48        NaN            R$0,00   \n",
       "4       R$5.318,10        R$96,53        NaN            R$0,00   \n",
       "...            ...            ...        ...               ...   \n",
       "2465   R$42.402,06       R$892,90        NaN  R$114.728.346,00   \n",
       "2466   R$45.486,09       R$960,04        NaN  R$132.540.043,50   \n",
       "2467   R$34.158,18       R$628,38  SANTOS SP  R$158.184.963,00   \n",
       "2468   R$60.884,93     R$1.316,68        NaN   R$35.904.424,50   \n",
       "2469   R$57.198,65     R$1.068,04        NaN   R$80.358.174,00   \n",
       "\n",
       "     Estimativa para o próximo concurso Valor Acumulado Próximo Concurso  \\\n",
       "0                                R$0,00                   R$1.714.650,23   \n",
       "1                                R$0,00                           R$0,00   \n",
       "2                                R$0,00                           R$0,00   \n",
       "3                                R$0,00                     R$717.080,75   \n",
       "4                                R$0,00                   R$1.342.488,85   \n",
       "...                                 ...                              ...   \n",
       "2465                   R$110.000.000,00                  R$91.749.995,68   \n",
       "2466                   R$120.000.000,00                 R$105.826.742,35   \n",
       "2467                     R$3.000.000,00                           R$0,00   \n",
       "2468                    R$45.000.000,00                  R$39.673.720,61   \n",
       "2469                    R$60.000.000,00                  R$48.208.361,37   \n",
       "\n",
       "     Acumulado Sorteio Especial Observação  \n",
       "0          Sim              Não        NaN  \n",
       "1          Não              Não        NaN  \n",
       "2          Não              Não        NaN  \n",
       "3          Sim              Não        NaN  \n",
       "4          Sim              Não        NaN  \n",
       "...        ...              ...        ...  \n",
       "2465       Sim              Não        NaN  \n",
       "2466       Sim              Não        NaN  \n",
       "2467       Não              Não        NaN  \n",
       "2468       Sim              Não        NaN  \n",
       "2469       Sim              Não        NaN  \n",
       "\n",
       "[2470 rows x 21 columns]"
      ]
     },
     "execution_count": 19,
     "metadata": {},
     "output_type": "execute_result"
    }
   ],
   "source": [
    "df"
   ]
  },
  {
   "cell_type": "code",
   "execution_count": 10,
   "id": "d1e61605-f659-4fb3-a29b-71eedc529ddb",
   "metadata": {},
   "outputs": [
    {
     "data": {
      "text/html": [
       "<div>\n",
       "<style scoped>\n",
       "    .dataframe tbody tr th:only-of-type {\n",
       "        vertical-align: middle;\n",
       "    }\n",
       "\n",
       "    .dataframe tbody tr th {\n",
       "        vertical-align: top;\n",
       "    }\n",
       "\n",
       "    .dataframe thead th {\n",
       "        text-align: right;\n",
       "    }\n",
       "</style>\n",
       "<table border=\"1\" class=\"dataframe\">\n",
       "  <thead>\n",
       "    <tr style=\"text-align: right;\">\n",
       "      <th></th>\n",
       "      <th>0</th>\n",
       "    </tr>\n",
       "  </thead>\n",
       "  <tbody>\n",
       "    <tr>\n",
       "      <th>0</th>\n",
       "      <td>Concurso Data do Sorteio  Coluna1  Coluna...</td>\n",
       "    </tr>\n",
       "    <tr>\n",
       "      <th>1</th>\n",
       "      <td>0   1\n",
       "0 NaN  PR</td>\n",
       "    </tr>\n",
       "    <tr>\n",
       "      <th>2</th>\n",
       "      <td>0   1\n",
       "0 NaN  RN\n",
       "1 NaN  SP</td>\n",
       "    </tr>\n",
       "    <tr>\n",
       "      <th>3</th>\n",
       "      <td>0   1\n",
       "0 NaN  RJ</td>\n",
       "    </tr>\n",
       "    <tr>\n",
       "      <th>4</th>\n",
       "      <td>0   1\n",
       "0 NaN  SP</td>\n",
       "    </tr>\n",
       "  </tbody>\n",
       "</table>\n",
       "</div>"
      ],
      "text/plain": [
       "                                                   0\n",
       "0       Concurso Data do Sorteio  Coluna1  Coluna...\n",
       "1                                    0   1\n",
       "0 NaN  PR\n",
       "2                          0   1\n",
       "0 NaN  RN\n",
       "1 NaN  SP\n",
       "3                                    0   1\n",
       "0 NaN  RJ\n",
       "4                                    0   1\n",
       "0 NaN  SP"
      ]
     },
     "execution_count": 10,
     "metadata": {},
     "output_type": "execute_result"
    }
   ],
   "source": [
    "df.head()"
   ]
  },
  {
   "cell_type": "code",
   "execution_count": 2,
   "id": "aac2fd4e-f0be-4cfd-a47a-fd1f98242fa0",
   "metadata": {},
   "outputs": [],
   "source": [
    "option = Options()\n",
    "option.headless = False\n",
    "navegador = webdriver.Firefox(options=option,keep_alive=False)\n",
    "navegador.delete_all_cookies()\n",
    "navegador.get('http://rais.gov.br/sitio/consulta_trabalhador_identificacao.jsf')\n",
    "\n",
    "\n",
    "\n",
    "\n",
    "# navegador.find_element_by_xpath('//*[@id=\"j_idt42:pis\"]').click()\n",
    "\n",
    "\n"
   ]
  },
  {
   "cell_type": "code",
   "execution_count": 3,
   "id": "16478e84-0008-4148-b4b0-223832d5d94f",
   "metadata": {},
   "outputs": [],
   "source": [
    "time.sleep(3)"
   ]
  },
  {
   "cell_type": "code",
   "execution_count": 4,
   "id": "8b571e24-9554-42d1-a950-fed4677401f1",
   "metadata": {},
   "outputs": [],
   "source": [
    "src = navegador.page_source"
   ]
  },
  {
   "cell_type": "code",
   "execution_count": 5,
   "id": "52be4a43-6df0-4f95-ad99-68a8c896703b",
   "metadata": {},
   "outputs": [],
   "source": [
    "padrao = '.id=\"j_idt[0-9]+:pis\"'"
   ]
  },
  {
   "cell_type": "code",
   "execution_count": 6,
   "id": "3e959178-b3ca-40eb-8004-7af5400302a0",
   "metadata": {},
   "outputs": [],
   "source": [
    "padrao2 = '.name=\"j_idt[0-9]+:j_idt[0-9]+\".value=\"Avançar\"'"
   ]
  },
  {
   "cell_type": "code",
   "execution_count": 7,
   "id": "e7c7e80c-598b-4bc1-977b-76bd69e45cda",
   "metadata": {},
   "outputs": [],
   "source": [
    "resultado = re.search(padrao, src)\n",
    "resultado = resultado.group().split('=\"')[1].split('\"')[0]\n",
    "resultado2 = re.search(padrao2,src)\n",
    "resultado2 = resultado2.group().split('=\"')[1].split('\"')[0]"
   ]
  },
  {
   "cell_type": "code",
   "execution_count": null,
   "id": "9ec8cac5-a12f-4eb1-8aa6-8032846206cc",
   "metadata": {},
   "outputs": [],
   "source": []
  },
  {
   "cell_type": "code",
   "execution_count": 8,
   "id": "f0fd6503-ae43-4e0b-92d4-ed874e046467",
   "metadata": {},
   "outputs": [
    {
     "name": "stderr",
     "output_type": "stream",
     "text": [
      "/tmp/ipykernel_28647/507650300.py:1: DeprecationWarning: find_element_by_name is deprecated. Please use find_element(by=By.NAME, value=name) instead\n",
      "  navegador.find_element_by_name(resultado).send_keys(f'20195997101')\n"
     ]
    }
   ],
   "source": [
    "navegador.find_element_by_name(resultado).send_keys(f'20195997101')"
   ]
  },
  {
   "cell_type": "code",
   "execution_count": 9,
   "id": "5b894cbc-465e-4e0c-9c53-f492c0b40d11",
   "metadata": {},
   "outputs": [
    {
     "name": "stderr",
     "output_type": "stream",
     "text": [
      "/tmp/ipykernel_28647/2128843155.py:1: DeprecationWarning: find_element_by_xpath is deprecated. Please use find_element(by=By.XPATH, value=xpath) instead\n",
      "  img = navegador.find_element_by_xpath('//*[@id=\"img_captcha_serpro_gov_br\"]').screenshot(\"resolver/imagem.png\")\n"
     ]
    },
    {
     "data": {
      "text/plain": [
       "True"
      ]
     },
     "execution_count": 9,
     "metadata": {},
     "output_type": "execute_result"
    }
   ],
   "source": [
    "img = navegador.find_element_by_xpath('//*[@id=\"img_captcha_serpro_gov_br\"]').screenshot(\"resolver/imagem.png\")\n",
    "# img=base64.b64encode(base64.b64decode(img))\n",
    "# fh = open(f\"resolver/imagem.png\", \"wb\")\n",
    "# fh.write(base64.decodebytes(img))\n",
    "# fh.close()\n",
    "imagem = cv2.imread(\"resolver/imagem.png\",1)\n",
    "img_scale_up = cv2.resize(imagem, (0, 0), fx=3, fy=3)\n",
    "cv2.imwrite(f'resolver/imagem.png',img_scale_up)"
   ]
  },
  {
   "cell_type": "code",
   "execution_count": null,
   "id": "9bd42a39-d894-488d-9096-51039588cb01",
   "metadata": {},
   "outputs": [],
   "source": []
  },
  {
   "cell_type": "code",
   "execution_count": 10,
   "id": "6409721e-1e1a-4be2-89af-64ffcb89deb4",
   "metadata": {},
   "outputs": [
    {
     "name": "stderr",
     "output_type": "stream",
     "text": [
      "2022-03-30 10:45:50.895827: W tensorflow/stream_executor/platform/default/dso_loader.cc:64] Could not load dynamic library 'libcuda.so.1'; dlerror: libcuda.so.1: cannot open shared object file: No such file or directory; LD_LIBRARY_PATH: /home/christhian.souza/.local/lib/python3.9/site-packages/cv2/../../lib64:\n",
      "2022-03-30 10:45:50.895847: W tensorflow/stream_executor/cuda/cuda_driver.cc:269] failed call to cuInit: UNKNOWN ERROR (303)\n",
      "2022-03-30 10:45:50.895863: I tensorflow/stream_executor/cuda/cuda_diagnostics.cc:156] kernel driver does not appear to be running on this host (fedora): /proc/driver/nvidia/version does not exist\n",
      "2022-03-30 10:45:50.896022: I tensorflow/core/platform/cpu_feature_guard.cc:151] This TensorFlow binary is optimized with oneAPI Deep Neural Network Library (oneDNN) to use the following CPU instructions in performance-critical operations:  AVX2 FMA\n",
      "To enable them in other operations, rebuild TensorFlow with the appropriate compiler flags.\n"
     ]
    },
    {
     "name": "stdout",
     "output_type": "stream",
     "text": [
      "yyzUzv\n"
     ]
    }
   ],
   "source": [
    "captcha = quebrarCaptcha()\n"
   ]
  },
  {
   "cell_type": "code",
   "execution_count": 11,
   "id": "b308ef84-6099-4ecd-8e7e-0df8d17456f3",
   "metadata": {},
   "outputs": [
    {
     "name": "stderr",
     "output_type": "stream",
     "text": [
      "/tmp/ipykernel_28647/1395442715.py:1: DeprecationWarning: find_element_by_xpath is deprecated. Please use find_element(by=By.XPATH, value=xpath) instead\n",
      "  navegador.find_element_by_xpath('//*[@id=\"txtTexto_captcha_serpro_gov_br\"]').send_keys(f'{captcha}', '\\ue007')\n",
      "/tmp/ipykernel_28647/1395442715.py:3: DeprecationWarning: find_element_by_xpath is deprecated. Please use find_element(by=By.XPATH, value=xpath) instead\n",
      "  navegador.find_element_by_xpath('//*[@id=\"txtTexto_captcha_serpro_gov_br\"]')\n"
     ]
    },
    {
     "data": {
      "text/plain": [
       "<selenium.webdriver.remote.webelement.WebElement (session=\"a8de697f-0453-48ed-b24c-142a019e6ca5\", element=\"6a02090a-9d36-41c1-aa59-dea289f92226\")>"
      ]
     },
     "execution_count": 11,
     "metadata": {},
     "output_type": "execute_result"
    }
   ],
   "source": [
    "navegador.find_element_by_xpath('//*[@id=\"txtTexto_captcha_serpro_gov_br\"]').send_keys(f'{captcha}', '\\ue007')\n",
    "time.sleep(1)\n",
    "navegador.find_element_by_xpath('//*[@id=\"txtTexto_captcha_serpro_gov_br\"]')"
   ]
  },
  {
   "cell_type": "code",
   "execution_count": 12,
   "id": "a1d533ed-69cf-4706-af22-51599544dc04",
   "metadata": {},
   "outputs": [
    {
     "name": "stderr",
     "output_type": "stream",
     "text": [
      "/tmp/ipykernel_28647/3228145220.py:1: DeprecationWarning: find_element_by_* commands are deprecated. Please use find_element() instead\n",
      "  navegador.find_element_by_id('btnRecarregar_captcha_serpro_gov_br').click()\n"
     ]
    }
   ],
   "source": [
    "navegador.find_element_by_id('btnRecarregar_captcha_serpro_gov_br').click()"
   ]
  },
  {
   "cell_type": "code",
   "execution_count": 13,
   "id": "82c27f86-d5d4-4408-93ce-808cca833505",
   "metadata": {},
   "outputs": [
    {
     "name": "stderr",
     "output_type": "stream",
     "text": [
      "/tmp/ipykernel_28647/22805359.py:2: DeprecationWarning: find_element_by_xpath is deprecated. Please use find_element(by=By.XPATH, value=xpath) instead\n",
      "  img = navegador.find_element_by_xpath('//*[@id=\"img_captcha_serpro_gov_br\"]').get_attribute('src').split(',')[1]\n"
     ]
    },
    {
     "data": {
      "text/plain": [
       "True"
      ]
     },
     "execution_count": 13,
     "metadata": {},
     "output_type": "execute_result"
    }
   ],
   "source": [
    "time.sleep(2)\n",
    "img = navegador.find_element_by_xpath('//*[@id=\"img_captcha_serpro_gov_br\"]').get_attribute('src').split(',')[1]\n",
    "img=base64.b64encode(base64.b64decode(img))\n",
    "fh = open(f\"resolver/imagem.png\", \"wb\")\n",
    "fh.write(base64.decodebytes(img))\n",
    "fh.close()\n",
    "imagem = cv2.imread(\"resolver/imagem.png\",1)\n",
    "img_scale_up = cv2.resize(imagem, (0, 0), fx=3, fy=3)\n",
    "cv2.imwrite(f'resolver/imagem.png',img_scale_up)"
   ]
  },
  {
   "cell_type": "code",
   "execution_count": 14,
   "id": "7580de48-5836-40f7-bdaa-536c5bf03ae8",
   "metadata": {},
   "outputs": [
    {
     "name": "stdout",
     "output_type": "stream",
     "text": [
      "yyzUzv\n"
     ]
    }
   ],
   "source": [
    "\n",
    "captcha = quebrarCaptcha()\n"
   ]
  },
  {
   "cell_type": "code",
   "execution_count": 15,
   "id": "2307398b-74ec-43a8-b6fe-572bef3550d1",
   "metadata": {},
   "outputs": [
    {
     "name": "stderr",
     "output_type": "stream",
     "text": [
      "/tmp/ipykernel_28647/3595506688.py:1: DeprecationWarning: find_element_by_xpath is deprecated. Please use find_element(by=By.XPATH, value=xpath) instead\n",
      "  navegador.find_element_by_xpath('//*[@id=\"txtTexto_captcha_serpro_gov_br\"]').send_keys(f'{captcha}')\n"
     ]
    },
    {
     "ename": "NoSuchElementException",
     "evalue": "Message: Unable to locate element: //*[@id=\"txtTexto_captcha_serpro_gov_br\"]\nStacktrace:\nWebDriverError@chrome://remote/content/shared/webdriver/Errors.jsm:183:5\nNoSuchElementError@chrome://remote/content/shared/webdriver/Errors.jsm:395:5\nelement.find/</<@chrome://remote/content/marionette/element.js:300:16\n",
     "output_type": "error",
     "traceback": [
      "\u001b[0;31m---------------------------------------------------------------------------\u001b[0m",
      "\u001b[0;31mNoSuchElementException\u001b[0m                    Traceback (most recent call last)",
      "Input \u001b[0;32mIn [15]\u001b[0m, in \u001b[0;36m<cell line: 1>\u001b[0;34m()\u001b[0m\n\u001b[0;32m----> 1\u001b[0m \u001b[43mnavegador\u001b[49m\u001b[38;5;241;43m.\u001b[39;49m\u001b[43mfind_element_by_xpath\u001b[49m\u001b[43m(\u001b[49m\u001b[38;5;124;43m'\u001b[39;49m\u001b[38;5;124;43m//*[@id=\u001b[39;49m\u001b[38;5;124;43m\"\u001b[39;49m\u001b[38;5;124;43mtxtTexto_captcha_serpro_gov_br\u001b[39;49m\u001b[38;5;124;43m\"\u001b[39;49m\u001b[38;5;124;43m]\u001b[39;49m\u001b[38;5;124;43m'\u001b[39;49m\u001b[43m)\u001b[49m\u001b[38;5;241m.\u001b[39msend_keys(\u001b[38;5;124mf\u001b[39m\u001b[38;5;124m'\u001b[39m\u001b[38;5;132;01m{\u001b[39;00mcaptcha\u001b[38;5;132;01m}\u001b[39;00m\u001b[38;5;124m'\u001b[39m)\n\u001b[1;32m      2\u001b[0m navegador\u001b[38;5;241m.\u001b[39mfind_element_by_name(resultado2)\u001b[38;5;241m.\u001b[39mclick()\n",
      "File \u001b[0;32m~/.local/lib/python3.9/site-packages/selenium/webdriver/remote/webdriver.py:521\u001b[0m, in \u001b[0;36mWebDriver.find_element_by_xpath\u001b[0;34m(self, xpath)\u001b[0m\n\u001b[1;32m    499\u001b[0m \u001b[38;5;124;03m\"\"\"\u001b[39;00m\n\u001b[1;32m    500\u001b[0m \u001b[38;5;124;03mFinds an element by xpath.\u001b[39;00m\n\u001b[1;32m    501\u001b[0m \n\u001b[0;32m   (...)\u001b[0m\n\u001b[1;32m    514\u001b[0m \u001b[38;5;124;03m        element = driver.find_element_by_xpath('//div/td[1]')\u001b[39;00m\n\u001b[1;32m    515\u001b[0m \u001b[38;5;124;03m\"\"\"\u001b[39;00m\n\u001b[1;32m    516\u001b[0m warnings\u001b[38;5;241m.\u001b[39mwarn(\n\u001b[1;32m    517\u001b[0m     \u001b[38;5;124m\"\u001b[39m\u001b[38;5;124mfind_element_by_xpath is deprecated. Please use find_element(by=By.XPATH, value=xpath) instead\u001b[39m\u001b[38;5;124m\"\u001b[39m,\n\u001b[1;32m    518\u001b[0m     \u001b[38;5;167;01mDeprecationWarning\u001b[39;00m,\n\u001b[1;32m    519\u001b[0m     stacklevel\u001b[38;5;241m=\u001b[39m\u001b[38;5;241m2\u001b[39m,\n\u001b[1;32m    520\u001b[0m )\n\u001b[0;32m--> 521\u001b[0m \u001b[38;5;28;01mreturn\u001b[39;00m \u001b[38;5;28;43mself\u001b[39;49m\u001b[38;5;241;43m.\u001b[39;49m\u001b[43mfind_element\u001b[49m\u001b[43m(\u001b[49m\u001b[43mby\u001b[49m\u001b[38;5;241;43m=\u001b[39;49m\u001b[43mBy\u001b[49m\u001b[38;5;241;43m.\u001b[39;49m\u001b[43mXPATH\u001b[49m\u001b[43m,\u001b[49m\u001b[43m \u001b[49m\u001b[43mvalue\u001b[49m\u001b[38;5;241;43m=\u001b[39;49m\u001b[43mxpath\u001b[49m\u001b[43m)\u001b[49m\n",
      "File \u001b[0;32m~/.local/lib/python3.9/site-packages/selenium/webdriver/remote/webdriver.py:1248\u001b[0m, in \u001b[0;36mWebDriver.find_element\u001b[0;34m(self, by, value)\u001b[0m\n\u001b[1;32m   1245\u001b[0m     by \u001b[38;5;241m=\u001b[39m By\u001b[38;5;241m.\u001b[39mCSS_SELECTOR\n\u001b[1;32m   1246\u001b[0m     value \u001b[38;5;241m=\u001b[39m \u001b[38;5;124m'\u001b[39m\u001b[38;5;124m[name=\u001b[39m\u001b[38;5;124m\"\u001b[39m\u001b[38;5;132;01m%s\u001b[39;00m\u001b[38;5;124m\"\u001b[39m\u001b[38;5;124m]\u001b[39m\u001b[38;5;124m'\u001b[39m \u001b[38;5;241m%\u001b[39m value\n\u001b[0;32m-> 1248\u001b[0m \u001b[38;5;28;01mreturn\u001b[39;00m \u001b[38;5;28;43mself\u001b[39;49m\u001b[38;5;241;43m.\u001b[39;49m\u001b[43mexecute\u001b[49m\u001b[43m(\u001b[49m\u001b[43mCommand\u001b[49m\u001b[38;5;241;43m.\u001b[39;49m\u001b[43mFIND_ELEMENT\u001b[49m\u001b[43m,\u001b[49m\u001b[43m \u001b[49m\u001b[43m{\u001b[49m\n\u001b[1;32m   1249\u001b[0m \u001b[43m    \u001b[49m\u001b[38;5;124;43m'\u001b[39;49m\u001b[38;5;124;43musing\u001b[39;49m\u001b[38;5;124;43m'\u001b[39;49m\u001b[43m:\u001b[49m\u001b[43m \u001b[49m\u001b[43mby\u001b[49m\u001b[43m,\u001b[49m\n\u001b[1;32m   1250\u001b[0m \u001b[43m    \u001b[49m\u001b[38;5;124;43m'\u001b[39;49m\u001b[38;5;124;43mvalue\u001b[39;49m\u001b[38;5;124;43m'\u001b[39;49m\u001b[43m:\u001b[49m\u001b[43m \u001b[49m\u001b[43mvalue\u001b[49m\u001b[43m}\u001b[49m\u001b[43m)\u001b[49m[\u001b[38;5;124m'\u001b[39m\u001b[38;5;124mvalue\u001b[39m\u001b[38;5;124m'\u001b[39m]\n",
      "File \u001b[0;32m~/.local/lib/python3.9/site-packages/selenium/webdriver/remote/webdriver.py:425\u001b[0m, in \u001b[0;36mWebDriver.execute\u001b[0;34m(self, driver_command, params)\u001b[0m\n\u001b[1;32m    423\u001b[0m response \u001b[38;5;241m=\u001b[39m \u001b[38;5;28mself\u001b[39m\u001b[38;5;241m.\u001b[39mcommand_executor\u001b[38;5;241m.\u001b[39mexecute(driver_command, params)\n\u001b[1;32m    424\u001b[0m \u001b[38;5;28;01mif\u001b[39;00m response:\n\u001b[0;32m--> 425\u001b[0m     \u001b[38;5;28;43mself\u001b[39;49m\u001b[38;5;241;43m.\u001b[39;49m\u001b[43merror_handler\u001b[49m\u001b[38;5;241;43m.\u001b[39;49m\u001b[43mcheck_response\u001b[49m\u001b[43m(\u001b[49m\u001b[43mresponse\u001b[49m\u001b[43m)\u001b[49m\n\u001b[1;32m    426\u001b[0m     response[\u001b[38;5;124m'\u001b[39m\u001b[38;5;124mvalue\u001b[39m\u001b[38;5;124m'\u001b[39m] \u001b[38;5;241m=\u001b[39m \u001b[38;5;28mself\u001b[39m\u001b[38;5;241m.\u001b[39m_unwrap_value(\n\u001b[1;32m    427\u001b[0m         response\u001b[38;5;241m.\u001b[39mget(\u001b[38;5;124m'\u001b[39m\u001b[38;5;124mvalue\u001b[39m\u001b[38;5;124m'\u001b[39m, \u001b[38;5;28;01mNone\u001b[39;00m))\n\u001b[1;32m    428\u001b[0m     \u001b[38;5;28;01mreturn\u001b[39;00m response\n",
      "File \u001b[0;32m~/.local/lib/python3.9/site-packages/selenium/webdriver/remote/errorhandler.py:247\u001b[0m, in \u001b[0;36mErrorHandler.check_response\u001b[0;34m(self, response)\u001b[0m\n\u001b[1;32m    245\u001b[0m         alert_text \u001b[38;5;241m=\u001b[39m value[\u001b[38;5;124m'\u001b[39m\u001b[38;5;124malert\u001b[39m\u001b[38;5;124m'\u001b[39m]\u001b[38;5;241m.\u001b[39mget(\u001b[38;5;124m'\u001b[39m\u001b[38;5;124mtext\u001b[39m\u001b[38;5;124m'\u001b[39m)\n\u001b[1;32m    246\u001b[0m     \u001b[38;5;28;01mraise\u001b[39;00m exception_class(message, screen, stacktrace, alert_text)  \u001b[38;5;66;03m# type: ignore[call-arg]  # mypy is not smart enough here\u001b[39;00m\n\u001b[0;32m--> 247\u001b[0m \u001b[38;5;28;01mraise\u001b[39;00m exception_class(message, screen, stacktrace)\n",
      "\u001b[0;31mNoSuchElementException\u001b[0m: Message: Unable to locate element: //*[@id=\"txtTexto_captcha_serpro_gov_br\"]\nStacktrace:\nWebDriverError@chrome://remote/content/shared/webdriver/Errors.jsm:183:5\nNoSuchElementError@chrome://remote/content/shared/webdriver/Errors.jsm:395:5\nelement.find/</<@chrome://remote/content/marionette/element.js:300:16\n"
     ]
    }
   ],
   "source": [
    "navegador.find_element_by_xpath('//*[@id=\"txtTexto_captcha_serpro_gov_br\"]').send_keys(f'{captcha}')\n",
    "navegador.find_element_by_name(resultado2).click()"
   ]
  },
  {
   "cell_type": "code",
   "execution_count": null,
   "id": "9ebc011b-1a30-4a04-b333-e8a7e4faed7f",
   "metadata": {},
   "outputs": [],
   "source": [
    "\n",
    "# img = navegador.find_element_by_xpath('//*[@id=\"img_captcha_serpro_gov_br\"]').get_attribute('src').split(',')[1]\n",
    "# img=base64.b64encode(base64.b64decode(img))\n",
    "# fh = open(f\"resolver/imagem.png\", \"wb\")\n",
    "# fh.write(base64.decodebytes(img))\n",
    "# fh.close()\n",
    "# imagem = cv2.imread(f\"resolver/imagem.png\",1)\n",
    "# img_scale_up = cv2.resize(imagem, (0, 0), fx=3, fy=3)\n",
    "# cv2.imwrite(f'resolver/imagem.png',img_scale_up)\n",
    "# captcha = quebrarCaptcha()"
   ]
  },
  {
   "cell_type": "code",
   "execution_count": null,
   "id": "e5a1f861-e592-46f4-ace8-5aecb59772e9",
   "metadata": {},
   "outputs": [],
   "source": [
    "# df = pd.DataFrame()"
   ]
  },
  {
   "cell_type": "code",
   "execution_count": null,
   "id": "445fa8fe-2535-4303-9339-f341b7e97acc",
   "metadata": {},
   "outputs": [],
   "source": [
    "# df.add("
   ]
  }
 ],
 "metadata": {
  "interpreter": {
   "hash": "7508f6b29652a1d748f738c4308f401b836710fcd75330c7b730979bfd3f3c28"
  },
  "kernelspec": {
   "display_name": ".venv1",
   "language": "python",
   "name": "python3"
  },
  "language_info": {
   "codemirror_mode": {
    "name": "ipython",
    "version": 3
   },
   "file_extension": ".py",
   "mimetype": "text/x-python",
   "name": "python",
   "nbconvert_exporter": "python",
   "pygments_lexer": "ipython3",
   "version": "3.9.10"
  }
 },
 "nbformat": 4,
 "nbformat_minor": 5
}
