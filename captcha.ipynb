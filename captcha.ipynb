{
 "cells": [
  {
   "cell_type": "code",
   "execution_count": 1,
   "id": "3d316e59-d3a9-4a2b-ab8e-1b4831ab5a61",
   "metadata": {},
   "outputs": [],
   "source": [
    "import requests\n",
    "from selenium import webdriver\n",
    "import base64\n",
    "import re\n",
    "from PIL import Image\n",
    "import pandas as pd\n",
    "import urllib\n",
    "from io import BytesIO\n",
    "from bs4 import BeautifulSoup as bs\n",
    "import numpy as np\n",
    "import cv2"
   ]
  },
  {
   "cell_type": "code",
   "execution_count": 10,
   "id": "aac2fd4e-f0be-4cfd-a47a-fd1f98242fa0",
   "metadata": {},
   "outputs": [
    {
     "name": "stderr",
     "output_type": "stream",
     "text": [
      "/tmp/ipykernel_33815/2326604045.py:5: DeprecationWarning: find_element_by_xpath is deprecated. Please use find_element(by=By.XPATH, value=xpath) instead\n",
      "  navegador.find_element_by_xpath('//*[@id=\"btnRecarregar_captcha_serpro_gov_br\"]').click()\n",
      "/tmp/ipykernel_33815/2326604045.py:7: DeprecationWarning: find_element_by_xpath is deprecated. Please use find_element(by=By.XPATH, value=xpath) instead\n",
      "  img = navegador.find_element_by_xpath('//*[@id=\"img_captcha_serpro_gov_br\"]').get_attribute('src').split(',')[1]\n"
     ]
    }
   ],
   "source": [
    "navegador = webdriver.Firefox(keep_alive = False)\n",
    "navegador.get('http://rais.gov.br/sitio/consulta_trabalhador_identificacao.jsf')\n",
    "navegador.set_window_size(1920,1080)\n",
    "for i in range(10):\n",
    "    navegador.find_element_by_xpath('//*[@id=\"btnRecarregar_captcha_serpro_gov_br\"]').click()\n",
    "    #img = navegador.find_element_by_xpath('//*[@id=\"img_captcha_serpro_gov_br\"]').screenshot(f'bdcaptcha/img{i}.png')\n",
    "    img = navegador.find_element_by_xpath('//*[@id=\"img_captcha_serpro_gov_br\"]').get_attribute('src').split(',')[1]\n",
    "    img=base64.b64encode(base64.b64decode(img))\n",
    "    fh = open(f\"imagem{i}.png\", \"wb\")\n",
    "    fh.write(base64.decodebytes(img))\n",
    "    fh.close()\n",
    "    imagem = cv2.imread(f\"imagem{i}.png\",1)\n",
    "    img_scale_up = cv2.resize(imagem, (0, 0), fx=3, fy=3)\n",
    "    cv2.imwrite(f'imagem{i}.png',img_scale_up)\n"
   ]
  },
  {
   "cell_type": "code",
   "execution_count": 6,
   "id": "aeb9edd9-73c1-4fae-bd15-39103f860026",
   "metadata": {},
   "outputs": [
    {
     "data": {
      "text/plain": [
       "True"
      ]
     },
     "execution_count": 6,
     "metadata": {},
     "output_type": "execute_result"
    }
   ],
   "source": [
    "imagem = cv2.imread('imageToSave.png',1)\n",
    "\n",
    "\n",
    "img_scale_up = cv2.resize(imagem, (0, 0), fx=2.5, fy=2.5)\n",
    "cv2.imwrite('imageToSave.png',img_scale_up)"
   ]
  },
  {
   "cell_type": "code",
   "execution_count": 49,
   "id": "62790758-87e5-4b80-8a30-8536e8bb7a90",
   "metadata": {},
   "outputs": [],
   "source": [
    "def getToken(home='http://rais.gov.br'):\n",
    "    response = requests.get(\n",
    "        f'{home}/sitio/consulta_trabalhador_identificacao.jsf',\n",
    "        headers={'Accept': \"text/html\",\n",
    "                 \"User-Agent\": \"Mozilla/5.0 (X11; Ubuntu; Linux x86_64; rv:88.0) Gecko/20100101 Firefox/88.0\",\n",
    "\n",
    "                 }\n",
    "    )\n",
    "\n",
    "    dados = response.text\n",
    "    TOKEN = re.search('data-clienteid=\"(.*)\">', dados).group(1).split('\"')[0]\n",
    "    cookiesx = response.cookies\n",
    "    return TOKEN, cookiesx"
   ]
  },
  {
   "cell_type": "code",
   "execution_count": 250,
   "id": "f006a52a-bd68-4e9a-b617-47d739272986",
   "metadata": {},
   "outputs": [],
   "source": [
    "def getData(home='http://rais.gov.br/sitio/consulta_trabalhador_identificacao.jsf', ini=0, qtd=40):\n",
    "    TOKEN, cookiesx = getToken(home)\n",
    "    cookie = \"=\".join(cookiesx.items()[0])\n",
    "    headers = {\n",
    "        'Cookie': cookie,\n",
    "        'Origin': home,\n",
    "        'Accept-Language': 'pt-BR,pt;q=0.9,en-US;q=0.8,en;q=0.7',\n",
    "        'User-Agent': 'Mozilla/5.0 (X11; Ubuntu; Linux x86_64; rv:88.0) Gecko/20100101 Firefox/88.0',\n",
    "        'Content-Type': 'application/json; charset=UTF-8',\n",
    "        'Referer': home + '/sitio/consulta_trabalhador_identificacao.jsf',\n",
    "        'Connection': 'keep-alive'\n",
    "    }\n",
    "    # params = {'sEcho': 1, 'iColumns': 5, 'sColumns': \"\", 'iDisplayStart': ini, 'iDisplayLength': qtd, 'mDataProp_0': 0,\n",
    "    #           'mDataProp_1': 1, 'mDataProp_2': 2, 'mDataProp_3': 3, 'mDataProp_4': 4, 'sSearch': '', 'iSortCol_0': 1,\n",
    "    #           'sSortDir_0': \"desc\", 'iSortingCols': 1, 'bSortable_0': 'true', 'bSortable_1': 'true',\n",
    "    #           'bSortable_2': 'true', 'bSortable_3': 'true', 'bSortable_4': 'false', 'option': \"com_mpt\", 'task': \"tacs\",\n",
    "    #           'format': \"raw\", TOKEN: 1}\n",
    "\n",
    "    response2 = requests.post(\n",
    "        f'{home}',\n",
    "         headers=headers#,\n",
    "        # data=params\n",
    "    )\n",
    "    try:\n",
    "        json_data = response2.json()\n",
    "        df_aadata = pd.DataFrame(json_data.get('aaData'))\n",
    "        df_aadata.columns = [\"cidade\", \"data\", \"numero\", \"procedimento\", \"arquivo\"]\n",
    "        df_aadata['path'] = [f'{home}/servicos/termos-de-ajuste-de-conduta?task=baixa&format=raw&arq={item}' for item in\n",
    "                             df_aadata.arquivo]\n",
    "        df_aadata['data'] = pd.to_datetime(df_aadata.data, format='%d/%m/%Y')\n",
    "        df_aadata['dia_semana'] = df_aadata.data.dt.dayofweek\n",
    "        df_aadata['id_lead'] = df_aadata[['cidade', 'numero', 'procedimento']].agg('_'.join, axis=1)\n",
    "\n",
    "        return df_aadata\n",
    "    except:\n",
    "        print(\"não é json\")\n",
    "        return response2"
   ]
  },
  {
   "cell_type": "code",
   "execution_count": 251,
   "id": "d0d0c9ca-8c38-4574-af47-b97bb7e6c6f7",
   "metadata": {},
   "outputs": [
    {
     "name": "stdout",
     "output_type": "stream",
     "text": [
      "não é json\n"
     ]
    }
   ],
   "source": [
    "a = getData()"
   ]
  },
  {
   "cell_type": "code",
   "execution_count": 252,
   "id": "5763f42b-ca05-49a6-8e11-56d3eaf655a0",
   "metadata": {},
   "outputs": [
    {
     "data": {
      "text/plain": [
       "<Response [200]>"
      ]
     },
     "execution_count": 252,
     "metadata": {},
     "output_type": "execute_result"
    }
   ],
   "source": [
    "a"
   ]
  },
  {
   "cell_type": "code",
   "execution_count": null,
   "id": "e5a1f861-e592-46f4-ace8-5aecb59772e9",
   "metadata": {},
   "outputs": [],
   "source": []
  }
 ],
 "metadata": {
  "kernelspec": {
   "display_name": ".venv1",
   "language": "python",
   "name": ".venv1"
  },
  "language_info": {
   "codemirror_mode": {
    "name": "ipython",
    "version": 3
   },
   "file_extension": ".py",
   "mimetype": "text/x-python",
   "name": "python",
   "nbconvert_exporter": "python",
   "pygments_lexer": "ipython3",
   "version": "3.9.10"
  }
 },
 "nbformat": 4,
 "nbformat_minor": 5
}
